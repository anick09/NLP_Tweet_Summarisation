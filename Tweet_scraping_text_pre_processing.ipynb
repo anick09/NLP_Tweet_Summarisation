{
 "cells": [
  {
   "cell_type": "code",
   "execution_count": 2,
   "id": "ea693fdf",
   "metadata": {},
   "outputs": [],
   "source": [
    "import pandas as pd\n",
    "from tqdm.notebook import tqdm\n",
    "import snscrape.modules.twitter as sntwitter"
   ]
  },
  {
   "attachments": {},
   "cell_type": "markdown",
   "id": "6fdcaccd",
   "metadata": {},
   "source": [
    "# Twitter Scraping using snscraper"
   ]
  },
  {
   "cell_type": "code",
   "execution_count": 3,
   "id": "1e3c3507",
   "metadata": {},
   "outputs": [
    {
     "data": {
      "application/vnd.jupyter.widget-view+json": {
       "model_id": "69f67f18613d470094e651fe9906d88d",
       "version_major": 2,
       "version_minor": 0
      },
      "text/plain": [
       "  0%|          | 0/2000 [00:00<?, ?it/s]"
      ]
     },
     "metadata": {},
     "output_type": "display_data"
    },
    {
     "name": "stderr",
     "output_type": "stream",
     "text": [
      "C:\\Users\\anik3\\AppData\\Local\\Temp\\ipykernel_1948\\520126653.py:6: FutureWarning: content is deprecated, use rawContent instead\n",
      "  data=[tweet.content]\n"
     ]
    }
   ],
   "source": [
    "tweets=[]\n",
    "scraper = sntwitter.TwitterSearchScraper(\"#WPL2023\")\n",
    "i=0\n",
    "for tweet in tqdm(scraper.get_items(),total=2000):\n",
    "    i=i+1\n",
    "    data=[tweet.content]\n",
    "    tweets.append(data)\n",
    "    if(i==2000):\n",
    "        break\n",
    "\n",
    "df=pd.DataFrame(tweets,columns=['text'])\n",
    "df.to_csv(\"#WPL2023.csv\")"
   ]
  },
  {
   "attachments": {},
   "cell_type": "markdown",
   "id": "8044069c",
   "metadata": {},
   "source": [
    "# Cleaning Tweets before generating summary for dataset"
   ]
  },
  {
   "attachments": {},
   "cell_type": "markdown",
   "id": "09622997",
   "metadata": {},
   "source": [
    "### PreProcessing Functions"
   ]
  },
  {
   "cell_type": "code",
   "execution_count": 115,
   "id": "b9dd0091",
   "metadata": {},
   "outputs": [],
   "source": [
    "from langdetect import detect\n",
    "def detectlang(t):\n",
    "    lang=''\n",
    "    try:\n",
    "        lang=detect(t)\n",
    "    except:\n",
    "        print(\"Exception\")\n",
    "    return lang\n",
    "\n",
    "import re\n",
    "def remove_url(text):\n",
    "    return re.sub('http://\\S+|https://\\S+', '', text)\n",
    "    # return pattern.sub(r'',t)\n",
    "\n",
    "import emoji\n",
    "\n",
    "punctuation = \"!”$%’()*+-/:;<=>[\\]^_`{|}~•@#\"\n",
    "def removepunc(text):\n",
    "    return text.translate(str.maketrans('','',punctuation))\n",
    "\n",
    "def removeEscapeSequences(x):\n",
    "    return x.replace(\"\\n\",\"\")\n",
    "\n",
    "def removeAmpercent(x):\n",
    "    return x.replace(\"&\", \"and\")\n",
    "\n",
    "\n",
    "def removeHashTags(text):\n",
    "    return re.sub('#[A-Za-z0-9]+', '', text)\n"
   ]
  },
  {
   "attachments": {},
   "cell_type": "markdown",
   "id": "e9ed88f8",
   "metadata": {},
   "source": [
    "### AyodhyaVerdict"
   ]
  },
  {
   "cell_type": "code",
   "execution_count": 20,
   "id": "e163c92c",
   "metadata": {},
   "outputs": [
    {
     "data": {
      "text/plain": [
       "0      Ahead of #AyodhyaVerdict, appeal to everyone t...\n",
       "1      We respect the Hon’ble Supreme Court’s #Ayodhy...\n",
       "2      This is the last prayer offered at #BabriMasji...\n",
       "3      “गिरा अरथ जल बीचि सम कहिअत भिन्न न भिन्न। \\nबं...\n",
       "4      \"There is a profound reason Maharshi Valmiki t...\n",
       "                             ...                        \n",
       "195    As a step to impress Sonia Gandhi&amp; Congres...\n",
       "196    By #AYODHYAVERDICT,ALL pending issues like-#Tr...\n",
       "197    கோவில் கொள்ளைக்காரர்களின் கூடாரம்! ~ கலைஞர்\\n\\...\n",
       "198    Just bcoz BJP got 303 seats in LS everything l...\n",
       "199    That's Barrister @asadowaisi . Your name will ...\n",
       "Name: text, Length: 200, dtype: object"
      ]
     },
     "execution_count": 20,
     "metadata": {},
     "output_type": "execute_result"
    }
   ],
   "source": [
    "df=pd.read_csv(\"#AYODHYAVERDICT_tweets.csv\")\n",
    "df['text']"
   ]
  },
  {
   "cell_type": "code",
   "execution_count": 28,
   "id": "a54efd2e",
   "metadata": {},
   "outputs": [],
   "source": [
    "# t=\"ajkdjf d https://hdfjhd.com/djkjdk njfghdjfg\"\n",
    "# t=remove_url(t)\n",
    "# t"
   ]
  },
  {
   "cell_type": "code",
   "execution_count": 29,
   "id": "34dc70dd",
   "metadata": {},
   "outputs": [
    {
     "name": "stderr",
     "output_type": "stream",
     "text": [
      "C:\\Users\\anik3\\AppData\\Local\\Temp\\ipykernel_6640\\2432296291.py:2: SettingWithCopyWarning: \n",
      "A value is trying to be set on a copy of a slice from a DataFrame\n",
      "\n",
      "See the caveats in the documentation: https://pandas.pydata.org/pandas-docs/stable/user_guide/indexing.html#returning-a-view-versus-a-copy\n",
      "  df['text'][i]=remove_url(df['text'][i])\n",
      "C:\\Users\\anik3\\AppData\\Local\\Temp\\ipykernel_6640\\2432296291.py:3: SettingWithCopyWarning: \n",
      "A value is trying to be set on a copy of a slice from a DataFrame\n",
      "\n",
      "See the caveats in the documentation: https://pandas.pydata.org/pandas-docs/stable/user_guide/indexing.html#returning-a-view-versus-a-copy\n",
      "  df['text'][i]=emoji.demojize(df['text'][i])\n",
      "C:\\Users\\anik3\\AppData\\Local\\Temp\\ipykernel_6640\\2432296291.py:4: SettingWithCopyWarning: \n",
      "A value is trying to be set on a copy of a slice from a DataFrame\n",
      "\n",
      "See the caveats in the documentation: https://pandas.pydata.org/pandas-docs/stable/user_guide/indexing.html#returning-a-view-versus-a-copy\n",
      "  df['text'][i]=removepunc(df['text'][i])\n",
      "C:\\Users\\anik3\\AppData\\Local\\Temp\\ipykernel_6640\\2432296291.py:5: SettingWithCopyWarning: \n",
      "A value is trying to be set on a copy of a slice from a DataFrame\n",
      "\n",
      "See the caveats in the documentation: https://pandas.pydata.org/pandas-docs/stable/user_guide/indexing.html#returning-a-view-versus-a-copy\n",
      "  df['text'][i]=removeEscapeSequences(df['text'][i])\n",
      "C:\\Users\\anik3\\AppData\\Local\\Temp\\ipykernel_6640\\2432296291.py:6: SettingWithCopyWarning: \n",
      "A value is trying to be set on a copy of a slice from a DataFrame\n",
      "\n",
      "See the caveats in the documentation: https://pandas.pydata.org/pandas-docs/stable/user_guide/indexing.html#returning-a-view-versus-a-copy\n",
      "  df['text'][i]=removeAmpercent(df['text'][i])\n",
      "C:\\Users\\anik3\\AppData\\Local\\Temp\\ipykernel_6640\\2432296291.py:7: SettingWithCopyWarning: \n",
      "A value is trying to be set on a copy of a slice from a DataFrame\n",
      "\n",
      "See the caveats in the documentation: https://pandas.pydata.org/pandas-docs/stable/user_guide/indexing.html#returning-a-view-versus-a-copy\n",
      "  df['text'][i]=removeHashTags(df['text'][i])\n"
     ]
    }
   ],
   "source": [
    "for i in range(200):\n",
    "    df['text'][i]=remove_url(df['text'][i])\n",
    "    df['text'][i]=emoji.demojize(df['text'][i])\n",
    "    df['text'][i]=removepunc(df['text'][i])\n",
    "    df['text'][i]=removeEscapeSequences(df['text'][i])\n",
    "    df['text'][i]=removeAmpercent(df['text'][i])\n",
    "    df['text'][i]=removeHashTags(df['text'][i])\n",
    "\n",
    "\n",
    "    # df['text'][i]=removeapostophes(df['text'][i])\n",
    "\n",
    "\n"
   ]
  },
  {
   "cell_type": "code",
   "execution_count": 30,
   "id": "f4433272",
   "metadata": {},
   "outputs": [],
   "source": [
    "c=0\n",
    "newdf=[]\n",
    "temp=\"\"\n",
    "for i in range(200):\n",
    "    if (detectlang(df['text'][i]))=='en':\n",
    "        temp=temp+df['text'][i]\n",
    "        c=c+1\n",
    "    if c==10:\n",
    "        c=0\n",
    "        newdf.append(temp)\n",
    "        temp=\"\"\n",
    "\n",
    "newdf.append(temp)"
   ]
  },
  {
   "attachments": {},
   "cell_type": "markdown",
   "id": "50018e95",
   "metadata": {},
   "source": [
    "### Pegasus Model for Summary Generation"
   ]
  },
  {
   "cell_type": "code",
   "execution_count": 32,
   "id": "b45d8267",
   "metadata": {},
   "outputs": [],
   "source": [
    "from transformers import PegasusForConditionalGeneration, PegasusTokenizer"
   ]
  },
  {
   "cell_type": "code",
   "execution_count": 33,
   "id": "3d9158df",
   "metadata": {},
   "outputs": [],
   "source": [
    "# Load tokenizer \n",
    "tokenizer = PegasusTokenizer.from_pretrained(\"google/pegasus-xsum\")\n",
    "# Load model \n",
    "model = PegasusForConditionalGeneration.from_pretrained(\"google/pegasus-xsum\")"
   ]
  },
  {
   "cell_type": "code",
   "execution_count": 36,
   "id": "9ee5770a",
   "metadata": {},
   "outputs": [],
   "source": [
    "def generate_summary(text):\n",
    "    tokens = tokenizer(text, truncation=True, padding=\"longest\", return_tensors=\"pt\")\n",
    "    summary = model.generate(**tokens,min_new_tokens=256,no_repeat_ngram_size =1)\n",
    "\n",
    "    # Decode summary\n",
    "    t=\"\"\n",
    "    t=tokenizer.decode(summary[0])\n",
    "    return t"
   ]
  },
  {
   "cell_type": "code",
   "execution_count": 38,
   "id": "c2f74e2f",
   "metadata": {},
   "outputs": [],
   "source": [
    "dict={}\n",
    "input=[]\n",
    "output=[]"
   ]
  },
  {
   "cell_type": "markdown",
   "id": "2d28bebf",
   "metadata": {},
   "source": []
  },
  {
   "cell_type": "code",
   "execution_count": 94,
   "id": "2a2b64c3",
   "metadata": {},
   "outputs": [],
   "source": [
    "for i in range (len(newdf)):\n",
    "    t=\"\"\n",
    "    # print(newdf[i])\n",
    "    input.append(newdf[i])\n",
    "    # print(\"summary\")\n",
    "    t=generate_summary(newdf[i])\n",
    "    # print(t)\n",
    "    output.append(t)\n",
    "    # print()\n",
    "    # print()\n",
    "    # print()\n",
    "    "
   ]
  },
  {
   "cell_type": "code",
   "execution_count": 56,
   "id": "494f25e5",
   "metadata": {},
   "outputs": [],
   "source": [
    "def preprocess(df):\n",
    "    for i in range(df.shape[0]):\n",
    "        df['text'][i]=remove_url(df['text'][i])\n",
    "        df['text'][i]=emoji.demojize(df['text'][i])\n",
    "        df['text'][i]=removepunc(df['text'][i])\n",
    "        df['text'][i]=removeEscapeSequences(df['text'][i])\n",
    "        df['text'][i]=removeAmpercent(df['text'][i])\n",
    "        df['text'][i]=removeHashTags(df['text'][i])"
   ]
  },
  {
   "cell_type": "code",
   "execution_count": 58,
   "id": "6a17c569",
   "metadata": {},
   "outputs": [],
   "source": [
    "def buildsetoften(df):\n",
    "    c=0\n",
    "    newdf=[]\n",
    "    temp=\"\"\n",
    "    for i in range(df.shape[0]):\n",
    "        if (detectlang(df['text'][i]))=='en':\n",
    "            temp=temp+df['text'][i]\n",
    "            c=c+1\n",
    "        if c==10:\n",
    "            c=0\n",
    "            newdf.append(temp)\n",
    "            temp=\"\"\n",
    "\n",
    "    newdf.append(temp)\n",
    "    return newdf"
   ]
  },
  {
   "attachments": {},
   "cell_type": "markdown",
   "id": "cd53adda",
   "metadata": {},
   "source": [
    "### CancellAllBlueTicks"
   ]
  },
  {
   "cell_type": "code",
   "execution_count": 46,
   "id": "7dd73d21",
   "metadata": {},
   "outputs": [
    {
     "data": {
      "text/plain": [
       "0      ये नया तथ्य सामने आया है, पैसे लेकर ब्लू टिक द...\n",
       "1      भारत का जातिवादी मीडिया 'ट्विटर बनाम दलित' बता...\n",
       "2      ट्विटर पर क्‍यों छिड़ा है ट्विटर और दलित कार्य...\n",
       "3      @dilipmandal भारत का जातिवादी मीडिया 'ट्विटर ब...\n",
       "4      #cancelallBlueTicksinIndia has been the top tr...\n",
       "                             ...                        \n",
       "193                 @sanjuydv #cancelallBlueTicksinIndia\n",
       "194    प्रिय ट्विटर.\\nहम किसी ब्लू टिक के मोहताज नही ...\n",
       "195    जो @Twitter @verified ब्लू टिक होल्डर हमारे सा...\n",
       "196    ट्विटर पर क्‍यों छिड़ा है ट्विटर और दलित कार्य...\n",
       "197    One man One vote,\\nOne vote One value...\\n\\nसम...\n",
       "Name: text, Length: 198, dtype: object"
      ]
     },
     "execution_count": 46,
     "metadata": {},
     "output_type": "execute_result"
    }
   ],
   "source": [
    "df=pd.read_csv(\"#cancelallBlueTicksinIndia_tweets.csv\")\n",
    "df['text']"
   ]
  },
  {
   "cell_type": "code",
   "execution_count": 57,
   "id": "6ba76028",
   "metadata": {},
   "outputs": [
    {
     "name": "stderr",
     "output_type": "stream",
     "text": [
      "C:\\Users\\anik3\\AppData\\Local\\Temp\\ipykernel_6640\\4124540592.py:3: SettingWithCopyWarning: \n",
      "A value is trying to be set on a copy of a slice from a DataFrame\n",
      "\n",
      "See the caveats in the documentation: https://pandas.pydata.org/pandas-docs/stable/user_guide/indexing.html#returning-a-view-versus-a-copy\n",
      "  df['text'][i]=remove_url(df['text'][i])\n",
      "C:\\Users\\anik3\\AppData\\Local\\Temp\\ipykernel_6640\\4124540592.py:4: SettingWithCopyWarning: \n",
      "A value is trying to be set on a copy of a slice from a DataFrame\n",
      "\n",
      "See the caveats in the documentation: https://pandas.pydata.org/pandas-docs/stable/user_guide/indexing.html#returning-a-view-versus-a-copy\n",
      "  df['text'][i]=emoji.demojize(df['text'][i])\n",
      "C:\\Users\\anik3\\AppData\\Local\\Temp\\ipykernel_6640\\4124540592.py:5: SettingWithCopyWarning: \n",
      "A value is trying to be set on a copy of a slice from a DataFrame\n",
      "\n",
      "See the caveats in the documentation: https://pandas.pydata.org/pandas-docs/stable/user_guide/indexing.html#returning-a-view-versus-a-copy\n",
      "  df['text'][i]=removepunc(df['text'][i])\n",
      "C:\\Users\\anik3\\AppData\\Local\\Temp\\ipykernel_6640\\4124540592.py:6: SettingWithCopyWarning: \n",
      "A value is trying to be set on a copy of a slice from a DataFrame\n",
      "\n",
      "See the caveats in the documentation: https://pandas.pydata.org/pandas-docs/stable/user_guide/indexing.html#returning-a-view-versus-a-copy\n",
      "  df['text'][i]=removeEscapeSequences(df['text'][i])\n",
      "C:\\Users\\anik3\\AppData\\Local\\Temp\\ipykernel_6640\\4124540592.py:7: SettingWithCopyWarning: \n",
      "A value is trying to be set on a copy of a slice from a DataFrame\n",
      "\n",
      "See the caveats in the documentation: https://pandas.pydata.org/pandas-docs/stable/user_guide/indexing.html#returning-a-view-versus-a-copy\n",
      "  df['text'][i]=removeAmpercent(df['text'][i])\n",
      "C:\\Users\\anik3\\AppData\\Local\\Temp\\ipykernel_6640\\4124540592.py:8: SettingWithCopyWarning: \n",
      "A value is trying to be set on a copy of a slice from a DataFrame\n",
      "\n",
      "See the caveats in the documentation: https://pandas.pydata.org/pandas-docs/stable/user_guide/indexing.html#returning-a-view-versus-a-copy\n",
      "  df['text'][i]=removeHashTags(df['text'][i])\n"
     ]
    }
   ],
   "source": [
    "preprocess(df)"
   ]
  },
  {
   "cell_type": "code",
   "execution_count": 95,
   "id": "55825d05",
   "metadata": {},
   "outputs": [],
   "source": [
    "newdf=buildsetoften(df)"
   ]
  },
  {
   "cell_type": "code",
   "execution_count": 63,
   "id": "26989967",
   "metadata": {},
   "outputs": [
    {
     "name": "stderr",
     "output_type": "stream",
     "text": [
      "c:\\Users\\anik3\\anaconda3\\lib\\site-packages\\transformers\\generation\\utils.py:1273: UserWarning: Neither `max_length` nor `max_new_tokens` has been set, `max_length` will default to 64 (`generation_config.max_length`). Controlling `max_length` via the config is deprecated and `max_length` will be removed from the config in v5 of Transformers -- we recommend using `max_new_tokens` to control the maximum length of the generation.\n",
      "  warnings.warn(\n"
     ]
    }
   ],
   "source": [
    "for i in range (len(newdf)):\n",
    "    t=\"\"\n",
    "    # print(newdf[i])\n",
    "    input.append(newdf[i])\n",
    "    # print(\"summary\")\n",
    "    t=generate_summary(newdf[i])\n",
    "    # print(t)\n",
    "    output.append(t)\n",
    "    # print()\n",
    "    # print()\n",
    "    # print()"
   ]
  },
  {
   "attachments": {},
   "cell_type": "markdown",
   "id": "55871fb9",
   "metadata": {},
   "source": [
    "### JNUProtest"
   ]
  },
  {
   "cell_type": "code",
   "execution_count": 75,
   "id": "03af3bf3",
   "metadata": {},
   "outputs": [
    {
     "name": "stdout",
     "output_type": "stream",
     "text": [
      "0      Statue of Unity - 3000 cr\\n\\nCost of printing ...\n",
      "1      \"JNU gets more funds than any other universiti...\n",
      "2      Statue of Unity - 3000 cr\\n\\nCost of printing ...\n",
      "3      Came to Delhi in 2004..worked in a call centre...\n",
      "4      \"JNU gets more funds than any other universiti...\n",
      "                             ...                        \n",
      "195    JNU fee hike would forever shut the doors of t...\n",
      "196    I am a student.\\nI want my right.\\nI want educ...\n",
      "197    To destroy a country, U don't need to use nuke...\n",
      "198    To destroy a country, U don't need to use nuke...\n",
      "199    While Students of #JNU have been protesting fo...\n",
      "Name: text, Length: 200, dtype: object\n"
     ]
    },
    {
     "name": "stderr",
     "output_type": "stream",
     "text": [
      "C:\\Users\\anik3\\AppData\\Local\\Temp\\ipykernel_6640\\4124540592.py:3: SettingWithCopyWarning: \n",
      "A value is trying to be set on a copy of a slice from a DataFrame\n",
      "\n",
      "See the caveats in the documentation: https://pandas.pydata.org/pandas-docs/stable/user_guide/indexing.html#returning-a-view-versus-a-copy\n",
      "  df['text'][i]=remove_url(df['text'][i])\n",
      "C:\\Users\\anik3\\AppData\\Local\\Temp\\ipykernel_6640\\4124540592.py:4: SettingWithCopyWarning: \n",
      "A value is trying to be set on a copy of a slice from a DataFrame\n",
      "\n",
      "See the caveats in the documentation: https://pandas.pydata.org/pandas-docs/stable/user_guide/indexing.html#returning-a-view-versus-a-copy\n",
      "  df['text'][i]=emoji.demojize(df['text'][i])\n",
      "C:\\Users\\anik3\\AppData\\Local\\Temp\\ipykernel_6640\\4124540592.py:5: SettingWithCopyWarning: \n",
      "A value is trying to be set on a copy of a slice from a DataFrame\n",
      "\n",
      "See the caveats in the documentation: https://pandas.pydata.org/pandas-docs/stable/user_guide/indexing.html#returning-a-view-versus-a-copy\n",
      "  df['text'][i]=removepunc(df['text'][i])\n",
      "C:\\Users\\anik3\\AppData\\Local\\Temp\\ipykernel_6640\\4124540592.py:6: SettingWithCopyWarning: \n",
      "A value is trying to be set on a copy of a slice from a DataFrame\n",
      "\n",
      "See the caveats in the documentation: https://pandas.pydata.org/pandas-docs/stable/user_guide/indexing.html#returning-a-view-versus-a-copy\n",
      "  df['text'][i]=removeEscapeSequences(df['text'][i])\n",
      "C:\\Users\\anik3\\AppData\\Local\\Temp\\ipykernel_6640\\4124540592.py:7: SettingWithCopyWarning: \n",
      "A value is trying to be set on a copy of a slice from a DataFrame\n",
      "\n",
      "See the caveats in the documentation: https://pandas.pydata.org/pandas-docs/stable/user_guide/indexing.html#returning-a-view-versus-a-copy\n",
      "  df['text'][i]=removeAmpercent(df['text'][i])\n",
      "C:\\Users\\anik3\\AppData\\Local\\Temp\\ipykernel_6640\\4124540592.py:8: SettingWithCopyWarning: \n",
      "A value is trying to be set on a copy of a slice from a DataFrame\n",
      "\n",
      "See the caveats in the documentation: https://pandas.pydata.org/pandas-docs/stable/user_guide/indexing.html#returning-a-view-versus-a-copy\n",
      "  df['text'][i]=removeHashTags(df['text'][i])\n",
      "c:\\Users\\anik3\\anaconda3\\lib\\site-packages\\transformers\\generation\\utils.py:1273: UserWarning: Neither `max_length` nor `max_new_tokens` has been set, `max_length` will default to 64 (`generation_config.max_length`). Controlling `max_length` via the config is deprecated and `max_length` will be removed from the config in v5 of Transformers -- we recommend using `max_new_tokens` to control the maximum length of the generation.\n",
      "  warnings.warn(\n"
     ]
    }
   ],
   "source": [
    "df=pd.read_csv(\"#jnuprotest_tweets.csv\")\n",
    "print(df.text)\n",
    "preprocess(df)\n",
    "newdf=buildsetoften(df)\n",
    "for i in range (len(newdf)):\n",
    "    t=\"\"\n",
    "    # print(newdf[i])\n",
    "    input.append(newdf[i])\n",
    "    # print(\"summary\")\n",
    "    t=generate_summary(newdf[i])\n",
    "    # print(t)\n",
    "    output.append(t)"
   ]
  },
  {
   "attachments": {},
   "cell_type": "markdown",
   "id": "d5982db6",
   "metadata": {},
   "source": [
    "### Kashmir Tweets"
   ]
  },
  {
   "cell_type": "code",
   "execution_count": 76,
   "id": "23ff0eca",
   "metadata": {},
   "outputs": [
    {
     "name": "stdout",
     "output_type": "stream",
     "text": [
      "0      First forceful occupation of #Kashmir and now ...\n",
      "1      Snowfall in #Kashmir #AJK 🍁https://t.co/KdL1lR...\n",
      "2      مرے مالک مرے رہبر مدد کر \\nکہ ہے کشمیر خوں سے ...\n",
      "3      06 نومبر یوم شہدائے جموں\\n\\n#Kashmir #KashmirS...\n",
      "4      Snowfall in #Kashmir #AJK 🍁https://t.co/KdL1lR...\n",
      "                             ...                        \n",
      "195    Pakistan is deliberately encouraging anti-Hind...\n",
      "196    #Kashmir: Is national security not a good grou...\n",
      "197    A house destroyed By Indian Shelling in AJK, l...\n",
      "198    This is it. Simple and straight!\\nAll that tal...\n",
      "199    مقبوضہ کشمیر میں کرفیو کا 94واں روز، عالمی برا...\n",
      "Name: text, Length: 200, dtype: object\n"
     ]
    },
    {
     "name": "stderr",
     "output_type": "stream",
     "text": [
      "C:\\Users\\anik3\\AppData\\Local\\Temp\\ipykernel_6640\\4124540592.py:3: SettingWithCopyWarning: \n",
      "A value is trying to be set on a copy of a slice from a DataFrame\n",
      "\n",
      "See the caveats in the documentation: https://pandas.pydata.org/pandas-docs/stable/user_guide/indexing.html#returning-a-view-versus-a-copy\n",
      "  df['text'][i]=remove_url(df['text'][i])\n",
      "C:\\Users\\anik3\\AppData\\Local\\Temp\\ipykernel_6640\\4124540592.py:4: SettingWithCopyWarning: \n",
      "A value is trying to be set on a copy of a slice from a DataFrame\n",
      "\n",
      "See the caveats in the documentation: https://pandas.pydata.org/pandas-docs/stable/user_guide/indexing.html#returning-a-view-versus-a-copy\n",
      "  df['text'][i]=emoji.demojize(df['text'][i])\n",
      "C:\\Users\\anik3\\AppData\\Local\\Temp\\ipykernel_6640\\4124540592.py:5: SettingWithCopyWarning: \n",
      "A value is trying to be set on a copy of a slice from a DataFrame\n",
      "\n",
      "See the caveats in the documentation: https://pandas.pydata.org/pandas-docs/stable/user_guide/indexing.html#returning-a-view-versus-a-copy\n",
      "  df['text'][i]=removepunc(df['text'][i])\n",
      "C:\\Users\\anik3\\AppData\\Local\\Temp\\ipykernel_6640\\4124540592.py:6: SettingWithCopyWarning: \n",
      "A value is trying to be set on a copy of a slice from a DataFrame\n",
      "\n",
      "See the caveats in the documentation: https://pandas.pydata.org/pandas-docs/stable/user_guide/indexing.html#returning-a-view-versus-a-copy\n",
      "  df['text'][i]=removeEscapeSequences(df['text'][i])\n",
      "C:\\Users\\anik3\\AppData\\Local\\Temp\\ipykernel_6640\\4124540592.py:7: SettingWithCopyWarning: \n",
      "A value is trying to be set on a copy of a slice from a DataFrame\n",
      "\n",
      "See the caveats in the documentation: https://pandas.pydata.org/pandas-docs/stable/user_guide/indexing.html#returning-a-view-versus-a-copy\n",
      "  df['text'][i]=removeAmpercent(df['text'][i])\n",
      "C:\\Users\\anik3\\AppData\\Local\\Temp\\ipykernel_6640\\4124540592.py:8: SettingWithCopyWarning: \n",
      "A value is trying to be set on a copy of a slice from a DataFrame\n",
      "\n",
      "See the caveats in the documentation: https://pandas.pydata.org/pandas-docs/stable/user_guide/indexing.html#returning-a-view-versus-a-copy\n",
      "  df['text'][i]=removeHashTags(df['text'][i])\n",
      "c:\\Users\\anik3\\anaconda3\\lib\\site-packages\\transformers\\generation\\utils.py:1273: UserWarning: Neither `max_length` nor `max_new_tokens` has been set, `max_length` will default to 64 (`generation_config.max_length`). Controlling `max_length` via the config is deprecated and `max_length` will be removed from the config in v5 of Transformers -- we recommend using `max_new_tokens` to control the maximum length of the generation.\n",
      "  warnings.warn(\n"
     ]
    }
   ],
   "source": [
    "df=pd.read_csv(\"#Kashmir_tweets.csv\")\n",
    "print(df.text)\n",
    "preprocess(df)\n",
    "newdf=buildsetoften(df)\n",
    "for i in range (len(newdf)):\n",
    "    t=\"\"\n",
    "    # print(newdf[i])\n",
    "    input.append(newdf[i])\n",
    "    # print(\"summary\")\n",
    "    t=generate_summary(newdf[i])\n",
    "    # print(t)\n",
    "    output.append(t)"
   ]
  },
  {
   "attachments": {},
   "cell_type": "markdown",
   "id": "b01ea3f4",
   "metadata": {},
   "source": [
    "### KejriwalMustResign"
   ]
  },
  {
   "cell_type": "code",
   "execution_count": 77,
   "id": "a8061c2f",
   "metadata": {},
   "outputs": [
    {
     "name": "stdout",
     "output_type": "stream",
     "text": [
      "0      #AYODHYAVERDICT\\n#JaiBhimJaiPeriyar\\n#WhySoBor...\n",
      "1      पंजाब में \"आप\" द्वारा पराली जाने पर और दिल्ली ...\n",
      "2      Why no-body is talking or writing ✍️ about sol...\n",
      "3            #KejriwalMustResign, sound like blame game.\n",
      "4      #KejriwalMustResign, if that solves all the pr...\n",
      "                             ...                        \n",
      "195    #KejriwalMustResign \\n\\nThis is the account of...\n",
      "196    IRONY OF THE NATION's CAPITAL\\n\\n#ThursdayThou...\n",
      "197    सर्वोच्च न्यायालय ने भी मेरे  द्वारा उठाये गए ...\n",
      "198    पंजाब में \"आप\" द्वारा पराली जाने पर और दिल्ली ...\n",
      "199    पंजाब में \"आप\" द्वारा पाराली जलाने और दिल्ली म...\n",
      "Name: text, Length: 200, dtype: object\n"
     ]
    },
    {
     "name": "stderr",
     "output_type": "stream",
     "text": [
      "C:\\Users\\anik3\\AppData\\Local\\Temp\\ipykernel_6640\\4124540592.py:3: SettingWithCopyWarning: \n",
      "A value is trying to be set on a copy of a slice from a DataFrame\n",
      "\n",
      "See the caveats in the documentation: https://pandas.pydata.org/pandas-docs/stable/user_guide/indexing.html#returning-a-view-versus-a-copy\n",
      "  df['text'][i]=remove_url(df['text'][i])\n",
      "C:\\Users\\anik3\\AppData\\Local\\Temp\\ipykernel_6640\\4124540592.py:4: SettingWithCopyWarning: \n",
      "A value is trying to be set on a copy of a slice from a DataFrame\n",
      "\n",
      "See the caveats in the documentation: https://pandas.pydata.org/pandas-docs/stable/user_guide/indexing.html#returning-a-view-versus-a-copy\n",
      "  df['text'][i]=emoji.demojize(df['text'][i])\n",
      "C:\\Users\\anik3\\AppData\\Local\\Temp\\ipykernel_6640\\4124540592.py:5: SettingWithCopyWarning: \n",
      "A value is trying to be set on a copy of a slice from a DataFrame\n",
      "\n",
      "See the caveats in the documentation: https://pandas.pydata.org/pandas-docs/stable/user_guide/indexing.html#returning-a-view-versus-a-copy\n",
      "  df['text'][i]=removepunc(df['text'][i])\n",
      "C:\\Users\\anik3\\AppData\\Local\\Temp\\ipykernel_6640\\4124540592.py:6: SettingWithCopyWarning: \n",
      "A value is trying to be set on a copy of a slice from a DataFrame\n",
      "\n",
      "See the caveats in the documentation: https://pandas.pydata.org/pandas-docs/stable/user_guide/indexing.html#returning-a-view-versus-a-copy\n",
      "  df['text'][i]=removeEscapeSequences(df['text'][i])\n",
      "C:\\Users\\anik3\\AppData\\Local\\Temp\\ipykernel_6640\\4124540592.py:7: SettingWithCopyWarning: \n",
      "A value is trying to be set on a copy of a slice from a DataFrame\n",
      "\n",
      "See the caveats in the documentation: https://pandas.pydata.org/pandas-docs/stable/user_guide/indexing.html#returning-a-view-versus-a-copy\n",
      "  df['text'][i]=removeAmpercent(df['text'][i])\n",
      "C:\\Users\\anik3\\AppData\\Local\\Temp\\ipykernel_6640\\4124540592.py:8: SettingWithCopyWarning: \n",
      "A value is trying to be set on a copy of a slice from a DataFrame\n",
      "\n",
      "See the caveats in the documentation: https://pandas.pydata.org/pandas-docs/stable/user_guide/indexing.html#returning-a-view-versus-a-copy\n",
      "  df['text'][i]=removeHashTags(df['text'][i])\n",
      "c:\\Users\\anik3\\anaconda3\\lib\\site-packages\\transformers\\generation\\utils.py:1273: UserWarning: Neither `max_length` nor `max_new_tokens` has been set, `max_length` will default to 64 (`generation_config.max_length`). Controlling `max_length` via the config is deprecated and `max_length` will be removed from the config in v5 of Transformers -- we recommend using `max_new_tokens` to control the maximum length of the generation.\n",
      "  warnings.warn(\n"
     ]
    }
   ],
   "source": [
    "df=pd.read_csv(\"#KejriwalMustResign_tweets.csv\")\n",
    "print(df.text)\n",
    "preprocess(df)\n",
    "newdf=buildsetoften(df)\n",
    "for i in range (len(newdf)):\n",
    "    t=\"\"\n",
    "    # print(newdf[i])\n",
    "    input.append(newdf[i])\n",
    "    # print(\"summary\")\n",
    "    t=generate_summary(newdf[i])\n",
    "    # print(t)\n",
    "    output.append(t)"
   ]
  },
  {
   "attachments": {},
   "cell_type": "markdown",
   "id": "d13077f2",
   "metadata": {},
   "source": [
    "### INDvAUS"
   ]
  },
  {
   "cell_type": "code",
   "execution_count": 82,
   "id": "8db5478a",
   "metadata": {},
   "outputs": [
    {
     "name": "stdout",
     "output_type": "stream",
     "text": [
      "0       #INDvAUS \\n\\n#jadeja #IndvsAus #INDvAUS\\n#INDv...\n",
      "1       #INDvAUS\\nThe way @RishabhPant17 plays test cr...\n",
      "2                                     #INDvAUS\\n👏🏻👏🏻👏🏻💙💙💙\n",
      "3       All the more reason to create a pitch like thi...\n",
      "4       #BGT2023 #BorderGavaskarTrophy2023 \\n#INDvAUS ...\n",
      "                              ...                        \n",
      "1495    Kya lagta hai aapko 'Who will score more fours...\n",
      "1496    Sometims you get those. Smith cops an absolute...\n",
      "1497    IND vs AUS 3rd Test Live: Ravindra Jadeja gets...\n",
      "1498    If there are no communication devices allowed ...\n",
      "1499    4th wicket for Sir Jadeja but Australia have g...\n",
      "Name: text, Length: 1500, dtype: object\n"
     ]
    },
    {
     "name": "stderr",
     "output_type": "stream",
     "text": [
      "C:\\Users\\anik3\\AppData\\Local\\Temp\\ipykernel_6640\\4124540592.py:3: SettingWithCopyWarning: \n",
      "A value is trying to be set on a copy of a slice from a DataFrame\n",
      "\n",
      "See the caveats in the documentation: https://pandas.pydata.org/pandas-docs/stable/user_guide/indexing.html#returning-a-view-versus-a-copy\n",
      "  df['text'][i]=remove_url(df['text'][i])\n",
      "C:\\Users\\anik3\\AppData\\Local\\Temp\\ipykernel_6640\\4124540592.py:4: SettingWithCopyWarning: \n",
      "A value is trying to be set on a copy of a slice from a DataFrame\n",
      "\n",
      "See the caveats in the documentation: https://pandas.pydata.org/pandas-docs/stable/user_guide/indexing.html#returning-a-view-versus-a-copy\n",
      "  df['text'][i]=emoji.demojize(df['text'][i])\n",
      "C:\\Users\\anik3\\AppData\\Local\\Temp\\ipykernel_6640\\4124540592.py:5: SettingWithCopyWarning: \n",
      "A value is trying to be set on a copy of a slice from a DataFrame\n",
      "\n",
      "See the caveats in the documentation: https://pandas.pydata.org/pandas-docs/stable/user_guide/indexing.html#returning-a-view-versus-a-copy\n",
      "  df['text'][i]=removepunc(df['text'][i])\n",
      "C:\\Users\\anik3\\AppData\\Local\\Temp\\ipykernel_6640\\4124540592.py:6: SettingWithCopyWarning: \n",
      "A value is trying to be set on a copy of a slice from a DataFrame\n",
      "\n",
      "See the caveats in the documentation: https://pandas.pydata.org/pandas-docs/stable/user_guide/indexing.html#returning-a-view-versus-a-copy\n",
      "  df['text'][i]=removeEscapeSequences(df['text'][i])\n",
      "C:\\Users\\anik3\\AppData\\Local\\Temp\\ipykernel_6640\\4124540592.py:7: SettingWithCopyWarning: \n",
      "A value is trying to be set on a copy of a slice from a DataFrame\n",
      "\n",
      "See the caveats in the documentation: https://pandas.pydata.org/pandas-docs/stable/user_guide/indexing.html#returning-a-view-versus-a-copy\n",
      "  df['text'][i]=removeAmpercent(df['text'][i])\n",
      "C:\\Users\\anik3\\AppData\\Local\\Temp\\ipykernel_6640\\4124540592.py:8: SettingWithCopyWarning: \n",
      "A value is trying to be set on a copy of a slice from a DataFrame\n",
      "\n",
      "See the caveats in the documentation: https://pandas.pydata.org/pandas-docs/stable/user_guide/indexing.html#returning-a-view-versus-a-copy\n",
      "  df['text'][i]=removeHashTags(df['text'][i])\n",
      "c:\\Users\\anik3\\anaconda3\\lib\\site-packages\\transformers\\generation\\utils.py:1273: UserWarning: Neither `max_length` nor `max_new_tokens` has been set, `max_length` will default to 64 (`generation_config.max_length`). Controlling `max_length` via the config is deprecated and `max_length` will be removed from the config in v5 of Transformers -- we recommend using `max_new_tokens` to control the maximum length of the generation.\n",
      "  warnings.warn(\n"
     ]
    }
   ],
   "source": [
    "df=pd.read_csv(\"#INDvAUS.csv\")\n",
    "print(df.text)\n",
    "preprocess(df)\n",
    "newdf=buildsetoften(df)\n",
    "for i in range (len(newdf)):\n",
    "    t=\"\"\n",
    "    # print(newdf[i])\n",
    "    input.append(newdf[i])\n",
    "    # print(\"summary\")\n",
    "    t=generate_summary(newdf[i])\n",
    "    # print(t)\n",
    "    output.append(t)"
   ]
  },
  {
   "attachments": {},
   "cell_type": "markdown",
   "id": "7265d143",
   "metadata": {},
   "source": [
    "### chatgpt"
   ]
  },
  {
   "cell_type": "code",
   "execution_count": 86,
   "id": "e4d285d9",
   "metadata": {},
   "outputs": [
    {
     "name": "stdout",
     "output_type": "stream",
     "text": [
      "0      @LearningengAki #ChatGPT gpt-3.5-turbo を試さずにねる...\n",
      "1      🌠#Interstellar pictures again today \\n\\n💥Impre...\n",
      "2      #ChatGPT recently passed a Wharton School MBA ...\n",
      "3      Google is in trouble\\n\\nAsked Google to answer...\n",
      "4      ChatGPT API is now publicly available. Also, w...\n",
      "                             ...                        \n",
      "495    $ITM Awaiting Buy Signal based off 10 trades, ...\n",
      "496    $EFX Awaiting Short Signal based off 11 signal...\n",
      "497    $HYLB Awaiting Short Signal based off 6 trades...\n",
      "498    $URI Awaiting Buy Signal based off 11 signals ...\n",
      "499    $IAI Awaiting Short Signal based off 7 trades,...\n",
      "Name: text, Length: 500, dtype: object\n"
     ]
    },
    {
     "name": "stderr",
     "output_type": "stream",
     "text": [
      "C:\\Users\\anik3\\AppData\\Local\\Temp\\ipykernel_6640\\4124540592.py:3: SettingWithCopyWarning: \n",
      "A value is trying to be set on a copy of a slice from a DataFrame\n",
      "\n",
      "See the caveats in the documentation: https://pandas.pydata.org/pandas-docs/stable/user_guide/indexing.html#returning-a-view-versus-a-copy\n",
      "  df['text'][i]=remove_url(df['text'][i])\n",
      "C:\\Users\\anik3\\AppData\\Local\\Temp\\ipykernel_6640\\4124540592.py:4: SettingWithCopyWarning: \n",
      "A value is trying to be set on a copy of a slice from a DataFrame\n",
      "\n",
      "See the caveats in the documentation: https://pandas.pydata.org/pandas-docs/stable/user_guide/indexing.html#returning-a-view-versus-a-copy\n",
      "  df['text'][i]=emoji.demojize(df['text'][i])\n",
      "C:\\Users\\anik3\\AppData\\Local\\Temp\\ipykernel_6640\\4124540592.py:5: SettingWithCopyWarning: \n",
      "A value is trying to be set on a copy of a slice from a DataFrame\n",
      "\n",
      "See the caveats in the documentation: https://pandas.pydata.org/pandas-docs/stable/user_guide/indexing.html#returning-a-view-versus-a-copy\n",
      "  df['text'][i]=removepunc(df['text'][i])\n",
      "C:\\Users\\anik3\\AppData\\Local\\Temp\\ipykernel_6640\\4124540592.py:6: SettingWithCopyWarning: \n",
      "A value is trying to be set on a copy of a slice from a DataFrame\n",
      "\n",
      "See the caveats in the documentation: https://pandas.pydata.org/pandas-docs/stable/user_guide/indexing.html#returning-a-view-versus-a-copy\n",
      "  df['text'][i]=removeEscapeSequences(df['text'][i])\n",
      "C:\\Users\\anik3\\AppData\\Local\\Temp\\ipykernel_6640\\4124540592.py:7: SettingWithCopyWarning: \n",
      "A value is trying to be set on a copy of a slice from a DataFrame\n",
      "\n",
      "See the caveats in the documentation: https://pandas.pydata.org/pandas-docs/stable/user_guide/indexing.html#returning-a-view-versus-a-copy\n",
      "  df['text'][i]=removeAmpercent(df['text'][i])\n",
      "C:\\Users\\anik3\\AppData\\Local\\Temp\\ipykernel_6640\\4124540592.py:8: SettingWithCopyWarning: \n",
      "A value is trying to be set on a copy of a slice from a DataFrame\n",
      "\n",
      "See the caveats in the documentation: https://pandas.pydata.org/pandas-docs/stable/user_guide/indexing.html#returning-a-view-versus-a-copy\n",
      "  df['text'][i]=removeHashTags(df['text'][i])\n"
     ]
    },
    {
     "data": {
      "application/vnd.jupyter.widget-view+json": {
       "model_id": "f95977fe126e40ea813628513b112d2a",
       "version_major": 2,
       "version_minor": 0
      },
      "text/plain": [
       "  0%|          | 0/47 [00:00<?, ?it/s]"
      ]
     },
     "metadata": {},
     "output_type": "display_data"
    },
    {
     "name": "stderr",
     "output_type": "stream",
     "text": [
      "c:\\Users\\anik3\\anaconda3\\lib\\site-packages\\transformers\\generation\\utils.py:1273: UserWarning: Neither `max_length` nor `max_new_tokens` has been set, `max_length` will default to 64 (`generation_config.max_length`). Controlling `max_length` via the config is deprecated and `max_length` will be removed from the config in v5 of Transformers -- we recommend using `max_new_tokens` to control the maximum length of the generation.\n",
      "  warnings.warn(\n"
     ]
    }
   ],
   "source": [
    "df=pd.read_csv(\"#chatgpt.csv\")\n",
    "print(df.text)\n",
    "preprocess(df)\n",
    "newdf=buildsetoften(df)\n",
    "for i in tqdm(range (len(newdf)),total=len(newdf)):\n",
    "    t=\"\"\n",
    "    # print(newdf[i])\n",
    "    input.append(newdf[i])\n",
    "    # print(\"summary\")\n",
    "    t=generate_summary(newdf[i])\n",
    "    # print(t)\n",
    "    output.append(t)"
   ]
  },
  {
   "attachments": {},
   "cell_type": "markdown",
   "id": "a7b98aa2",
   "metadata": {},
   "source": [
    "### SARSCov2"
   ]
  },
  {
   "cell_type": "code",
   "execution_count": 87,
   "id": "285f1e9c",
   "metadata": {},
   "outputs": [
    {
     "name": "stdout",
     "output_type": "stream",
     "text": [
      "0      There were reports that TV Journalist Savannah...\n",
      "1      If COVID, SARS-CoV-2 is “over,” why is it stil...\n",
      "2      @JannikaJahn @HongMathias don't you feel the d...\n",
      "3      Mask have to work. Otherwise #SARSCOV2 is spre...\n",
      "4      @brownecfm This is what concerns me the most: ...\n",
      "                             ...                        \n",
      "495    Met een enorm doden aantal.\\n\\n#COVID19 \\n#SAR...\n",
      "496    Is there anyone in the U.K. with an objective ...\n",
      "497    Und dann kommen wir wahrscheinlich zur größten...\n",
      "498    On claims that DOE concluded #SARSCoV2 was a m...\n",
      "499    Origine du #SARSCov2 = la thèse de l’accident ...\n",
      "Name: text, Length: 500, dtype: object\n"
     ]
    },
    {
     "name": "stderr",
     "output_type": "stream",
     "text": [
      "C:\\Users\\anik3\\AppData\\Local\\Temp\\ipykernel_6640\\4124540592.py:3: SettingWithCopyWarning: \n",
      "A value is trying to be set on a copy of a slice from a DataFrame\n",
      "\n",
      "See the caveats in the documentation: https://pandas.pydata.org/pandas-docs/stable/user_guide/indexing.html#returning-a-view-versus-a-copy\n",
      "  df['text'][i]=remove_url(df['text'][i])\n",
      "C:\\Users\\anik3\\AppData\\Local\\Temp\\ipykernel_6640\\4124540592.py:4: SettingWithCopyWarning: \n",
      "A value is trying to be set on a copy of a slice from a DataFrame\n",
      "\n",
      "See the caveats in the documentation: https://pandas.pydata.org/pandas-docs/stable/user_guide/indexing.html#returning-a-view-versus-a-copy\n",
      "  df['text'][i]=emoji.demojize(df['text'][i])\n",
      "C:\\Users\\anik3\\AppData\\Local\\Temp\\ipykernel_6640\\4124540592.py:5: SettingWithCopyWarning: \n",
      "A value is trying to be set on a copy of a slice from a DataFrame\n",
      "\n",
      "See the caveats in the documentation: https://pandas.pydata.org/pandas-docs/stable/user_guide/indexing.html#returning-a-view-versus-a-copy\n",
      "  df['text'][i]=removepunc(df['text'][i])\n",
      "C:\\Users\\anik3\\AppData\\Local\\Temp\\ipykernel_6640\\4124540592.py:6: SettingWithCopyWarning: \n",
      "A value is trying to be set on a copy of a slice from a DataFrame\n",
      "\n",
      "See the caveats in the documentation: https://pandas.pydata.org/pandas-docs/stable/user_guide/indexing.html#returning-a-view-versus-a-copy\n",
      "  df['text'][i]=removeEscapeSequences(df['text'][i])\n",
      "C:\\Users\\anik3\\AppData\\Local\\Temp\\ipykernel_6640\\4124540592.py:7: SettingWithCopyWarning: \n",
      "A value is trying to be set on a copy of a slice from a DataFrame\n",
      "\n",
      "See the caveats in the documentation: https://pandas.pydata.org/pandas-docs/stable/user_guide/indexing.html#returning-a-view-versus-a-copy\n",
      "  df['text'][i]=removeAmpercent(df['text'][i])\n",
      "C:\\Users\\anik3\\AppData\\Local\\Temp\\ipykernel_6640\\4124540592.py:8: SettingWithCopyWarning: \n",
      "A value is trying to be set on a copy of a slice from a DataFrame\n",
      "\n",
      "See the caveats in the documentation: https://pandas.pydata.org/pandas-docs/stable/user_guide/indexing.html#returning-a-view-versus-a-copy\n",
      "  df['text'][i]=removeHashTags(df['text'][i])\n"
     ]
    },
    {
     "data": {
      "application/vnd.jupyter.widget-view+json": {
       "model_id": "51fe5924cea04a7d87d94f44723ec40c",
       "version_major": 2,
       "version_minor": 0
      },
      "text/plain": [
       "  0%|          | 0/32 [00:00<?, ?it/s]"
      ]
     },
     "metadata": {},
     "output_type": "display_data"
    },
    {
     "name": "stderr",
     "output_type": "stream",
     "text": [
      "c:\\Users\\anik3\\anaconda3\\lib\\site-packages\\transformers\\generation\\utils.py:1273: UserWarning: Neither `max_length` nor `max_new_tokens` has been set, `max_length` will default to 64 (`generation_config.max_length`). Controlling `max_length` via the config is deprecated and `max_length` will be removed from the config in v5 of Transformers -- we recommend using `max_new_tokens` to control the maximum length of the generation.\n",
      "  warnings.warn(\n"
     ]
    }
   ],
   "source": [
    "df=pd.read_csv(\"#SARSCoV2.csv\")\n",
    "print(df.text)\n",
    "preprocess(df)\n",
    "newdf=buildsetoften(df)\n",
    "for i in tqdm(range (len(newdf)),total=len(newdf)):\n",
    "    t=\"\"\n",
    "    # print(newdf[i])\n",
    "    input.append(newdf[i])\n",
    "    # print(\"summary\")\n",
    "    t=generate_summary(newdf[i])\n",
    "    # print(t)\n",
    "    output.append(t)"
   ]
  },
  {
   "attachments": {},
   "cell_type": "markdown",
   "id": "49e194d0",
   "metadata": {},
   "source": [
    "### iphone 14"
   ]
  },
  {
   "cell_type": "code",
   "execution_count": 88,
   "id": "5833d607",
   "metadata": {},
   "outputs": [
    {
     "name": "stdout",
     "output_type": "stream",
     "text": [
      "0      UQモバイル UQ応援割 学割 2022年-2023年の契約がお得 U18は のりかえ MN...\n",
      "1      Apple iPhone 14 128GB Estelar 5G saindo por\\n🔥...\n",
      "2      iPhone14 のりかえ MNP 1円ではないが、総額3万円程度で購入できるように \\n\\...\n",
      "3      #breaking #Apple #NewProducts #iPhone14 #color...\n",
      "4      Apple iPhone 14 (128 GB) Estelar em oferta por...\n",
      "                             ...                        \n",
      "495    【Bic Style ららぽーと愛知東郷店】\\n\\n✨ #iPhone14 #ProMax ...\n",
      "496    【本日のPR】\\n\\nアイプラス京都アバンティ店では、劣化したバッテリーの交換修理や割れてし...\n",
      "497    ☆買取情報☆\\n\\n4/9まで、\\nスマホ、タブレットが買取価格10%UP中！\\n\\n未使用...\n",
      "498    2/28\\nTKモバイル \\n単価変動アリ\\n\\nRT❤️提出\\n500UP\\n#13pro...\n",
      "499    【のりかえ】 MNP iPhone14 iPhone13 一括 価格 キャッシュバック 機種...\n",
      "Name: text, Length: 500, dtype: object\n"
     ]
    },
    {
     "name": "stderr",
     "output_type": "stream",
     "text": [
      "C:\\Users\\anik3\\AppData\\Local\\Temp\\ipykernel_6640\\4124540592.py:3: SettingWithCopyWarning: \n",
      "A value is trying to be set on a copy of a slice from a DataFrame\n",
      "\n",
      "See the caveats in the documentation: https://pandas.pydata.org/pandas-docs/stable/user_guide/indexing.html#returning-a-view-versus-a-copy\n",
      "  df['text'][i]=remove_url(df['text'][i])\n",
      "C:\\Users\\anik3\\AppData\\Local\\Temp\\ipykernel_6640\\4124540592.py:4: SettingWithCopyWarning: \n",
      "A value is trying to be set on a copy of a slice from a DataFrame\n",
      "\n",
      "See the caveats in the documentation: https://pandas.pydata.org/pandas-docs/stable/user_guide/indexing.html#returning-a-view-versus-a-copy\n",
      "  df['text'][i]=emoji.demojize(df['text'][i])\n",
      "C:\\Users\\anik3\\AppData\\Local\\Temp\\ipykernel_6640\\4124540592.py:5: SettingWithCopyWarning: \n",
      "A value is trying to be set on a copy of a slice from a DataFrame\n",
      "\n",
      "See the caveats in the documentation: https://pandas.pydata.org/pandas-docs/stable/user_guide/indexing.html#returning-a-view-versus-a-copy\n",
      "  df['text'][i]=removepunc(df['text'][i])\n",
      "C:\\Users\\anik3\\AppData\\Local\\Temp\\ipykernel_6640\\4124540592.py:6: SettingWithCopyWarning: \n",
      "A value is trying to be set on a copy of a slice from a DataFrame\n",
      "\n",
      "See the caveats in the documentation: https://pandas.pydata.org/pandas-docs/stable/user_guide/indexing.html#returning-a-view-versus-a-copy\n",
      "  df['text'][i]=removeEscapeSequences(df['text'][i])\n",
      "C:\\Users\\anik3\\AppData\\Local\\Temp\\ipykernel_6640\\4124540592.py:7: SettingWithCopyWarning: \n",
      "A value is trying to be set on a copy of a slice from a DataFrame\n",
      "\n",
      "See the caveats in the documentation: https://pandas.pydata.org/pandas-docs/stable/user_guide/indexing.html#returning-a-view-versus-a-copy\n",
      "  df['text'][i]=removeAmpercent(df['text'][i])\n",
      "C:\\Users\\anik3\\AppData\\Local\\Temp\\ipykernel_6640\\4124540592.py:8: SettingWithCopyWarning: \n",
      "A value is trying to be set on a copy of a slice from a DataFrame\n",
      "\n",
      "See the caveats in the documentation: https://pandas.pydata.org/pandas-docs/stable/user_guide/indexing.html#returning-a-view-versus-a-copy\n",
      "  df['text'][i]=removeHashTags(df['text'][i])\n"
     ]
    },
    {
     "data": {
      "application/vnd.jupyter.widget-view+json": {
       "model_id": "e2c5c84381684599a232e8d53f3b2f5d",
       "version_major": 2,
       "version_minor": 0
      },
      "text/plain": [
       "  0%|          | 0/24 [00:00<?, ?it/s]"
      ]
     },
     "metadata": {},
     "output_type": "display_data"
    },
    {
     "name": "stderr",
     "output_type": "stream",
     "text": [
      "c:\\Users\\anik3\\anaconda3\\lib\\site-packages\\transformers\\generation\\utils.py:1273: UserWarning: Neither `max_length` nor `max_new_tokens` has been set, `max_length` will default to 64 (`generation_config.max_length`). Controlling `max_length` via the config is deprecated and `max_length` will be removed from the config in v5 of Transformers -- we recommend using `max_new_tokens` to control the maximum length of the generation.\n",
      "  warnings.warn(\n"
     ]
    }
   ],
   "source": [
    "df=pd.read_csv(\"#iphone14.csv\")\n",
    "print(df.text)\n",
    "preprocess(df)\n",
    "newdf=buildsetoften(df)\n",
    "for i in tqdm(range (len(newdf)),total=len(newdf)):\n",
    "    t=\"\"\n",
    "    # print(newdf[i])\n",
    "    input.append(newdf[i])\n",
    "    # print(\"summary\")\n",
    "    t=generate_summary(newdf[i])\n",
    "    # print(t)\n",
    "    output.append(t)"
   ]
  },
  {
   "attachments": {},
   "cell_type": "markdown",
   "id": "fc8493d6",
   "metadata": {},
   "source": [
    "### openai"
   ]
  },
  {
   "cell_type": "code",
   "execution_count": 89,
   "id": "44df9639",
   "metadata": {},
   "outputs": [
    {
     "name": "stdout",
     "output_type": "stream",
     "text": [
      "0       Exploring OpenAI’s Groundbreaking AI Models an...\n",
      "1       Switched a sample app from #OpenAI web APIs to...\n",
      "2       Investors are going nuts for #ChatGPT-ish arti...\n",
      "3       Après une dizaine de jours d'échanges avec #Ch...\n",
      "4       Afternoon Concept:\\n#artistsontwitter #ArtistO...\n",
      "                              ...                        \n",
      "1495    #JPMorgan è solo l’ultima società a limitare l...\n",
      "1496    CHATGPT BECOMES AN INTEGRAL PART OF THE INTERN...\n",
      "1497    Brad and Mitchell's forbidden love had grown s...\n",
      "1498    Ethereum developers have taken another step to...\n",
      "1499    🛸 #Metaverse \\n\\nSnapchat has released 'My AI'...\n",
      "Name: text, Length: 1500, dtype: object\n"
     ]
    },
    {
     "name": "stderr",
     "output_type": "stream",
     "text": [
      "C:\\Users\\anik3\\AppData\\Local\\Temp\\ipykernel_6640\\4124540592.py:3: SettingWithCopyWarning: \n",
      "A value is trying to be set on a copy of a slice from a DataFrame\n",
      "\n",
      "See the caveats in the documentation: https://pandas.pydata.org/pandas-docs/stable/user_guide/indexing.html#returning-a-view-versus-a-copy\n",
      "  df['text'][i]=remove_url(df['text'][i])\n",
      "C:\\Users\\anik3\\AppData\\Local\\Temp\\ipykernel_6640\\4124540592.py:4: SettingWithCopyWarning: \n",
      "A value is trying to be set on a copy of a slice from a DataFrame\n",
      "\n",
      "See the caveats in the documentation: https://pandas.pydata.org/pandas-docs/stable/user_guide/indexing.html#returning-a-view-versus-a-copy\n",
      "  df['text'][i]=emoji.demojize(df['text'][i])\n",
      "C:\\Users\\anik3\\AppData\\Local\\Temp\\ipykernel_6640\\4124540592.py:5: SettingWithCopyWarning: \n",
      "A value is trying to be set on a copy of a slice from a DataFrame\n",
      "\n",
      "See the caveats in the documentation: https://pandas.pydata.org/pandas-docs/stable/user_guide/indexing.html#returning-a-view-versus-a-copy\n",
      "  df['text'][i]=removepunc(df['text'][i])\n",
      "C:\\Users\\anik3\\AppData\\Local\\Temp\\ipykernel_6640\\4124540592.py:6: SettingWithCopyWarning: \n",
      "A value is trying to be set on a copy of a slice from a DataFrame\n",
      "\n",
      "See the caveats in the documentation: https://pandas.pydata.org/pandas-docs/stable/user_guide/indexing.html#returning-a-view-versus-a-copy\n",
      "  df['text'][i]=removeEscapeSequences(df['text'][i])\n",
      "C:\\Users\\anik3\\AppData\\Local\\Temp\\ipykernel_6640\\4124540592.py:7: SettingWithCopyWarning: \n",
      "A value is trying to be set on a copy of a slice from a DataFrame\n",
      "\n",
      "See the caveats in the documentation: https://pandas.pydata.org/pandas-docs/stable/user_guide/indexing.html#returning-a-view-versus-a-copy\n",
      "  df['text'][i]=removeAmpercent(df['text'][i])\n",
      "C:\\Users\\anik3\\AppData\\Local\\Temp\\ipykernel_6640\\4124540592.py:8: SettingWithCopyWarning: \n",
      "A value is trying to be set on a copy of a slice from a DataFrame\n",
      "\n",
      "See the caveats in the documentation: https://pandas.pydata.org/pandas-docs/stable/user_guide/indexing.html#returning-a-view-versus-a-copy\n",
      "  df['text'][i]=removeHashTags(df['text'][i])\n"
     ]
    },
    {
     "data": {
      "application/vnd.jupyter.widget-view+json": {
       "model_id": "5cfa1ec0e9764df096de8d7846696952",
       "version_major": 2,
       "version_minor": 0
      },
      "text/plain": [
       "  0%|          | 0/120 [00:00<?, ?it/s]"
      ]
     },
     "metadata": {},
     "output_type": "display_data"
    },
    {
     "name": "stderr",
     "output_type": "stream",
     "text": [
      "c:\\Users\\anik3\\anaconda3\\lib\\site-packages\\transformers\\generation\\utils.py:1273: UserWarning: Neither `max_length` nor `max_new_tokens` has been set, `max_length` will default to 64 (`generation_config.max_length`). Controlling `max_length` via the config is deprecated and `max_length` will be removed from the config in v5 of Transformers -- we recommend using `max_new_tokens` to control the maximum length of the generation.\n",
      "  warnings.warn(\n"
     ]
    }
   ],
   "source": [
    "df=pd.read_csv(\"#openai.csv\")\n",
    "print(df.text)\n",
    "preprocess(df)\n",
    "newdf=buildsetoften(df)\n",
    "for i in tqdm(range (len(newdf)),total=len(newdf)):\n",
    "    t=\"\"\n",
    "    # print(newdf[i])\n",
    "    input.append(newdf[i])\n",
    "    # print(\"summary\")\n",
    "    t=generate_summary(newdf[i])\n",
    "    # print(t)\n",
    "    output.append(t)"
   ]
  },
  {
   "attachments": {},
   "cell_type": "markdown",
   "id": "e97cdb92",
   "metadata": {},
   "source": [
    "### Ipl2022"
   ]
  },
  {
   "cell_type": "code",
   "execution_count": 90,
   "id": "657e8cc6",
   "metadata": {},
   "outputs": [
    {
     "name": "stdout",
     "output_type": "stream",
     "text": [
      "0       @GappaCricket Did any one expected #GT to win ...\n",
      "1       Bowling ka style \\nGully cricket practice matc...\n",
      "2       Gully cricket practice match 👌🥰😘❤️🔥#cricket #c...\n",
      "3       IPL 2023: Jasprit Bumrah out of IPL 2023 due t...\n",
      "4       Play #AndarBahar Live game with 100% Bonus on ...\n",
      "                              ...                        \n",
      "1495    ಎಸ್‌ಆರ್‌ಎಚ್‌ ತಂಡದಲ್ಲಿ ಬದಲಾವಣೆ ಪರ್ವ; ಯಾರಿಗೆ ಕೊಕ...\n",
      "1496    #YahanIndiaBanayegaTeam #fantasy #ipl #tataipl...\n",
      "1497    ಸನ್‌ರೈಸರ್ಸ್‌ ಹೈದರಬಾದ್ ತಂಡದ ನೂತನ ಕೋಚ್ ಆಗಿ ಬ್ರಿಯ...\n",
      "1498    IPL: Sunrisers Hyderabad part ways with Tom Mo...\n",
      "1499    Sunrisers Hyderabad: 'हा' दिग्गज खेळाडू बनला S...\n",
      "Name: text, Length: 1500, dtype: object\n"
     ]
    },
    {
     "name": "stderr",
     "output_type": "stream",
     "text": [
      "C:\\Users\\anik3\\AppData\\Local\\Temp\\ipykernel_6640\\4124540592.py:3: SettingWithCopyWarning: \n",
      "A value is trying to be set on a copy of a slice from a DataFrame\n",
      "\n",
      "See the caveats in the documentation: https://pandas.pydata.org/pandas-docs/stable/user_guide/indexing.html#returning-a-view-versus-a-copy\n",
      "  df['text'][i]=remove_url(df['text'][i])\n",
      "C:\\Users\\anik3\\AppData\\Local\\Temp\\ipykernel_6640\\4124540592.py:4: SettingWithCopyWarning: \n",
      "A value is trying to be set on a copy of a slice from a DataFrame\n",
      "\n",
      "See the caveats in the documentation: https://pandas.pydata.org/pandas-docs/stable/user_guide/indexing.html#returning-a-view-versus-a-copy\n",
      "  df['text'][i]=emoji.demojize(df['text'][i])\n",
      "C:\\Users\\anik3\\AppData\\Local\\Temp\\ipykernel_6640\\4124540592.py:5: SettingWithCopyWarning: \n",
      "A value is trying to be set on a copy of a slice from a DataFrame\n",
      "\n",
      "See the caveats in the documentation: https://pandas.pydata.org/pandas-docs/stable/user_guide/indexing.html#returning-a-view-versus-a-copy\n",
      "  df['text'][i]=removepunc(df['text'][i])\n",
      "C:\\Users\\anik3\\AppData\\Local\\Temp\\ipykernel_6640\\4124540592.py:6: SettingWithCopyWarning: \n",
      "A value is trying to be set on a copy of a slice from a DataFrame\n",
      "\n",
      "See the caveats in the documentation: https://pandas.pydata.org/pandas-docs/stable/user_guide/indexing.html#returning-a-view-versus-a-copy\n",
      "  df['text'][i]=removeEscapeSequences(df['text'][i])\n",
      "C:\\Users\\anik3\\AppData\\Local\\Temp\\ipykernel_6640\\4124540592.py:7: SettingWithCopyWarning: \n",
      "A value is trying to be set on a copy of a slice from a DataFrame\n",
      "\n",
      "See the caveats in the documentation: https://pandas.pydata.org/pandas-docs/stable/user_guide/indexing.html#returning-a-view-versus-a-copy\n",
      "  df['text'][i]=removeAmpercent(df['text'][i])\n",
      "C:\\Users\\anik3\\AppData\\Local\\Temp\\ipykernel_6640\\4124540592.py:8: SettingWithCopyWarning: \n",
      "A value is trying to be set on a copy of a slice from a DataFrame\n",
      "\n",
      "See the caveats in the documentation: https://pandas.pydata.org/pandas-docs/stable/user_guide/indexing.html#returning-a-view-versus-a-copy\n",
      "  df['text'][i]=removeHashTags(df['text'][i])\n"
     ]
    },
    {
     "data": {
      "application/vnd.jupyter.widget-view+json": {
       "model_id": "2468784727a0486aa017c1ecd6018d3a",
       "version_major": 2,
       "version_minor": 0
      },
      "text/plain": [
       "  0%|          | 0/117 [00:00<?, ?it/s]"
      ]
     },
     "metadata": {},
     "output_type": "display_data"
    },
    {
     "name": "stderr",
     "output_type": "stream",
     "text": [
      "c:\\Users\\anik3\\anaconda3\\lib\\site-packages\\transformers\\generation\\utils.py:1273: UserWarning: Neither `max_length` nor `max_new_tokens` has been set, `max_length` will default to 64 (`generation_config.max_length`). Controlling `max_length` via the config is deprecated and `max_length` will be removed from the config in v5 of Transformers -- we recommend using `max_new_tokens` to control the maximum length of the generation.\n",
      "  warnings.warn(\n"
     ]
    }
   ],
   "source": [
    "df=pd.read_csv(\"#ipl2022.csv\")\n",
    "print(df.text)\n",
    "preprocess(df)\n",
    "newdf=buildsetoften(df)\n",
    "for i in tqdm(range (len(newdf)),total=len(newdf)):\n",
    "    t=\"\"\n",
    "    # print(newdf[i])\n",
    "    input.append(newdf[i])\n",
    "    # print(\"summary\")\n",
    "    t=generate_summary(newdf[i])\n",
    "    # print(t)\n",
    "    output.append(t)"
   ]
  },
  {
   "attachments": {},
   "cell_type": "markdown",
   "id": "16b0ced4",
   "metadata": {},
   "source": [
    "### 3Idiots"
   ]
  },
  {
   "cell_type": "code",
   "execution_count": 102,
   "id": "2ce6143c",
   "metadata": {},
   "outputs": [
    {
     "name": "stdout",
     "output_type": "stream",
     "text": [
      "0       #throwback from the #looktests for #3Idiots 😍❤...\n",
      "1       @KritiAdmirers @Fossil Haila meri to 150 rs ki...\n",
      "2       3 idiots- GIF of the day! #alliswell #amir #3i...\n",
      "3       @TausiM14 @iamsrk @oliviamunn @E_oniverse @kas...\n",
      "4       @RajkumarHirani my roommate and I were discuss...\n",
      "                              ...                        \n",
      "1495    @ActorMadhavan My favorite actor from south .....\n",
      "1496    😂😂😂\\n.\\n.\\n.\\n#memes #meme #maharashtra #nagpu...\n",
      "1497    Sooooooooo cute #Aamirkhan \\n#3idiots #Kareena...\n",
      "1498    Legendary movies from legendary man.💫✨️🔥🔥\\n#Aa...\n",
      "1499    Agency life feat. 3 idiots \\nShare if you rela...\n",
      "Name: text, Length: 1500, dtype: object\n"
     ]
    },
    {
     "name": "stderr",
     "output_type": "stream",
     "text": [
      "C:\\Users\\anik3\\AppData\\Local\\Temp\\ipykernel_6640\\4124540592.py:3: SettingWithCopyWarning: \n",
      "A value is trying to be set on a copy of a slice from a DataFrame\n",
      "\n",
      "See the caveats in the documentation: https://pandas.pydata.org/pandas-docs/stable/user_guide/indexing.html#returning-a-view-versus-a-copy\n",
      "  df['text'][i]=remove_url(df['text'][i])\n",
      "C:\\Users\\anik3\\AppData\\Local\\Temp\\ipykernel_6640\\4124540592.py:4: SettingWithCopyWarning: \n",
      "A value is trying to be set on a copy of a slice from a DataFrame\n",
      "\n",
      "See the caveats in the documentation: https://pandas.pydata.org/pandas-docs/stable/user_guide/indexing.html#returning-a-view-versus-a-copy\n",
      "  df['text'][i]=emoji.demojize(df['text'][i])\n",
      "C:\\Users\\anik3\\AppData\\Local\\Temp\\ipykernel_6640\\4124540592.py:5: SettingWithCopyWarning: \n",
      "A value is trying to be set on a copy of a slice from a DataFrame\n",
      "\n",
      "See the caveats in the documentation: https://pandas.pydata.org/pandas-docs/stable/user_guide/indexing.html#returning-a-view-versus-a-copy\n",
      "  df['text'][i]=removepunc(df['text'][i])\n",
      "C:\\Users\\anik3\\AppData\\Local\\Temp\\ipykernel_6640\\4124540592.py:6: SettingWithCopyWarning: \n",
      "A value is trying to be set on a copy of a slice from a DataFrame\n",
      "\n",
      "See the caveats in the documentation: https://pandas.pydata.org/pandas-docs/stable/user_guide/indexing.html#returning-a-view-versus-a-copy\n",
      "  df['text'][i]=removeEscapeSequences(df['text'][i])\n",
      "C:\\Users\\anik3\\AppData\\Local\\Temp\\ipykernel_6640\\4124540592.py:7: SettingWithCopyWarning: \n",
      "A value is trying to be set on a copy of a slice from a DataFrame\n",
      "\n",
      "See the caveats in the documentation: https://pandas.pydata.org/pandas-docs/stable/user_guide/indexing.html#returning-a-view-versus-a-copy\n",
      "  df['text'][i]=removeAmpercent(df['text'][i])\n",
      "C:\\Users\\anik3\\AppData\\Local\\Temp\\ipykernel_6640\\4124540592.py:8: SettingWithCopyWarning: \n",
      "A value is trying to be set on a copy of a slice from a DataFrame\n",
      "\n",
      "See the caveats in the documentation: https://pandas.pydata.org/pandas-docs/stable/user_guide/indexing.html#returning-a-view-versus-a-copy\n",
      "  df['text'][i]=removeHashTags(df['text'][i])\n"
     ]
    },
    {
     "data": {
      "application/vnd.jupyter.widget-view+json": {
       "model_id": "348a8334252d402b8af3d2d49e3dc35b",
       "version_major": 2,
       "version_minor": 0
      },
      "text/plain": [
       "  0%|          | 0/110 [00:00<?, ?it/s]"
      ]
     },
     "metadata": {},
     "output_type": "display_data"
    },
    {
     "name": "stderr",
     "output_type": "stream",
     "text": [
      "c:\\Users\\anik3\\anaconda3\\lib\\site-packages\\transformers\\generation\\utils.py:1273: UserWarning: Neither `max_length` nor `max_new_tokens` has been set, `max_length` will default to 64 (`generation_config.max_length`). Controlling `max_length` via the config is deprecated and `max_length` will be removed from the config in v5 of Transformers -- we recommend using `max_new_tokens` to control the maximum length of the generation.\n",
      "  warnings.warn(\n"
     ]
    }
   ],
   "source": [
    "df=pd.read_csv(\"3idiots.csv\")\n",
    "print(df.text)\n",
    "preprocess(df)\n",
    "newdf=buildsetoften(df)\n",
    "for i in tqdm(range (len(newdf)),total=len(newdf)):\n",
    "    t=\"\"\n",
    "    # print(newdf[i])\n",
    "    input.append(newdf[i])\n",
    "    # print(\"summary\")\n",
    "    t=generate_summary(newdf[i])\n",
    "    # print(t)\n",
    "    output.append(t)"
   ]
  },
  {
   "attachments": {},
   "cell_type": "markdown",
   "id": "1f2fbbbf",
   "metadata": {},
   "source": [
    "### Galaxys23"
   ]
  },
  {
   "cell_type": "code",
   "execution_count": 103,
   "id": "401ea082",
   "metadata": {},
   "outputs": [
    {
     "name": "stdout",
     "output_type": "stream",
     "text": [
      "0       @Khaya_dladla @SamsungMobileSA @gagasifm 😁😁 #G...\n",
      "1                    #ShareTheEpic   #GalaxyS23 @gagasifm\n",
      "2                     #ShareTheEpic  #GalaxyS23 @gagasifm\n",
      "3                      #ShareTheEpic #GalaxyS23 @gagasifm\n",
      "4       @gagasifm @SamsungMobileSA of course it does, ...\n",
      "                              ...                        \n",
      "1495    Follow, like and share @gagasifm and answer a ...\n",
      "1496    Asiwaju Bola Ahmed Tinubu in a striking resemb...\n",
      "1497    Wih keren banget hasil nya #ShareTheEpic\\n#wit...\n",
      "1498    فيديو 🎥:\\nاستعراض وتجربة هاتف جالكسي اس 23 ، ا...\n",
      "1499    @currys I can't wait to use the camera to see ...\n",
      "Name: text, Length: 1500, dtype: object\n"
     ]
    },
    {
     "name": "stderr",
     "output_type": "stream",
     "text": [
      "C:\\Users\\anik3\\AppData\\Local\\Temp\\ipykernel_6640\\4124540592.py:3: SettingWithCopyWarning: \n",
      "A value is trying to be set on a copy of a slice from a DataFrame\n",
      "\n",
      "See the caveats in the documentation: https://pandas.pydata.org/pandas-docs/stable/user_guide/indexing.html#returning-a-view-versus-a-copy\n",
      "  df['text'][i]=remove_url(df['text'][i])\n",
      "C:\\Users\\anik3\\AppData\\Local\\Temp\\ipykernel_6640\\4124540592.py:4: SettingWithCopyWarning: \n",
      "A value is trying to be set on a copy of a slice from a DataFrame\n",
      "\n",
      "See the caveats in the documentation: https://pandas.pydata.org/pandas-docs/stable/user_guide/indexing.html#returning-a-view-versus-a-copy\n",
      "  df['text'][i]=emoji.demojize(df['text'][i])\n",
      "C:\\Users\\anik3\\AppData\\Local\\Temp\\ipykernel_6640\\4124540592.py:5: SettingWithCopyWarning: \n",
      "A value is trying to be set on a copy of a slice from a DataFrame\n",
      "\n",
      "See the caveats in the documentation: https://pandas.pydata.org/pandas-docs/stable/user_guide/indexing.html#returning-a-view-versus-a-copy\n",
      "  df['text'][i]=removepunc(df['text'][i])\n",
      "C:\\Users\\anik3\\AppData\\Local\\Temp\\ipykernel_6640\\4124540592.py:6: SettingWithCopyWarning: \n",
      "A value is trying to be set on a copy of a slice from a DataFrame\n",
      "\n",
      "See the caveats in the documentation: https://pandas.pydata.org/pandas-docs/stable/user_guide/indexing.html#returning-a-view-versus-a-copy\n",
      "  df['text'][i]=removeEscapeSequences(df['text'][i])\n",
      "C:\\Users\\anik3\\AppData\\Local\\Temp\\ipykernel_6640\\4124540592.py:7: SettingWithCopyWarning: \n",
      "A value is trying to be set on a copy of a slice from a DataFrame\n",
      "\n",
      "See the caveats in the documentation: https://pandas.pydata.org/pandas-docs/stable/user_guide/indexing.html#returning-a-view-versus-a-copy\n",
      "  df['text'][i]=removeAmpercent(df['text'][i])\n",
      "C:\\Users\\anik3\\AppData\\Local\\Temp\\ipykernel_6640\\4124540592.py:8: SettingWithCopyWarning: \n",
      "A value is trying to be set on a copy of a slice from a DataFrame\n",
      "\n",
      "See the caveats in the documentation: https://pandas.pydata.org/pandas-docs/stable/user_guide/indexing.html#returning-a-view-versus-a-copy\n",
      "  df['text'][i]=removeHashTags(df['text'][i])\n"
     ]
    },
    {
     "data": {
      "application/vnd.jupyter.widget-view+json": {
       "model_id": "85476abf90f34142ba52311e7a4b86a3",
       "version_major": 2,
       "version_minor": 0
      },
      "text/plain": [
       "  0%|          | 0/98 [00:00<?, ?it/s]"
      ]
     },
     "metadata": {},
     "output_type": "display_data"
    },
    {
     "name": "stderr",
     "output_type": "stream",
     "text": [
      "c:\\Users\\anik3\\anaconda3\\lib\\site-packages\\transformers\\generation\\utils.py:1273: UserWarning: Neither `max_length` nor `max_new_tokens` has been set, `max_length` will default to 64 (`generation_config.max_length`). Controlling `max_length` via the config is deprecated and `max_length` will be removed from the config in v5 of Transformers -- we recommend using `max_new_tokens` to control the maximum length of the generation.\n",
      "  warnings.warn(\n"
     ]
    }
   ],
   "source": [
    "df=pd.read_csv(\"#galaxys23.csv\")\n",
    "print(df.text)\n",
    "preprocess(df)\n",
    "newdf=buildsetoften(df)\n",
    "for i in tqdm(range (len(newdf)),total=len(newdf)):\n",
    "    t=\"\"\n",
    "    input.append(newdf[i])\n",
    "    t=generate_summary(newdf[i])\n",
    "    output.append(t)"
   ]
  },
  {
   "attachments": {},
   "cell_type": "markdown",
   "id": "bd6a0c82",
   "metadata": {},
   "source": [
    "### IndoChinaStandoff"
   ]
  },
  {
   "cell_type": "code",
   "execution_count": 104,
   "id": "e962b950",
   "metadata": {},
   "outputs": [
    {
     "name": "stdout",
     "output_type": "stream",
     "text": [
      "0      Boosting India's border security! Cabinet appr...\n",
      "1      तवांग सेक्टर में भारतीय-चीनी सैनिकों की भिड़ंत...\n",
      "2      Indian Army prevented Chinese attempts to chan...\n",
      "3      LAC पर भारतीय, चीनी सैनिकों की झड़प, दोनों पक्...\n",
      "4      #IndoChinaStandoff \\n#EasternLadakh \\n\\n@IgpLa...\n",
      "                             ...                        \n",
      "223    Only if the money used for personal gain was u...\n",
      "224    5. Instead, the Indian govt buckled under the ...\n",
      "225    4. Indian govt is fooling the people by callin...\n",
      "226    3.The current situation has mellowed down only...\n",
      "227    2.Such transgressions have happened in the pas...\n",
      "Name: text, Length: 228, dtype: object\n"
     ]
    },
    {
     "name": "stderr",
     "output_type": "stream",
     "text": [
      "C:\\Users\\anik3\\AppData\\Local\\Temp\\ipykernel_6640\\4124540592.py:3: SettingWithCopyWarning: \n",
      "A value is trying to be set on a copy of a slice from a DataFrame\n",
      "\n",
      "See the caveats in the documentation: https://pandas.pydata.org/pandas-docs/stable/user_guide/indexing.html#returning-a-view-versus-a-copy\n",
      "  df['text'][i]=remove_url(df['text'][i])\n",
      "C:\\Users\\anik3\\AppData\\Local\\Temp\\ipykernel_6640\\4124540592.py:4: SettingWithCopyWarning: \n",
      "A value is trying to be set on a copy of a slice from a DataFrame\n",
      "\n",
      "See the caveats in the documentation: https://pandas.pydata.org/pandas-docs/stable/user_guide/indexing.html#returning-a-view-versus-a-copy\n",
      "  df['text'][i]=emoji.demojize(df['text'][i])\n",
      "C:\\Users\\anik3\\AppData\\Local\\Temp\\ipykernel_6640\\4124540592.py:5: SettingWithCopyWarning: \n",
      "A value is trying to be set on a copy of a slice from a DataFrame\n",
      "\n",
      "See the caveats in the documentation: https://pandas.pydata.org/pandas-docs/stable/user_guide/indexing.html#returning-a-view-versus-a-copy\n",
      "  df['text'][i]=removepunc(df['text'][i])\n",
      "C:\\Users\\anik3\\AppData\\Local\\Temp\\ipykernel_6640\\4124540592.py:6: SettingWithCopyWarning: \n",
      "A value is trying to be set on a copy of a slice from a DataFrame\n",
      "\n",
      "See the caveats in the documentation: https://pandas.pydata.org/pandas-docs/stable/user_guide/indexing.html#returning-a-view-versus-a-copy\n",
      "  df['text'][i]=removeEscapeSequences(df['text'][i])\n",
      "C:\\Users\\anik3\\AppData\\Local\\Temp\\ipykernel_6640\\4124540592.py:7: SettingWithCopyWarning: \n",
      "A value is trying to be set on a copy of a slice from a DataFrame\n",
      "\n",
      "See the caveats in the documentation: https://pandas.pydata.org/pandas-docs/stable/user_guide/indexing.html#returning-a-view-versus-a-copy\n",
      "  df['text'][i]=removeAmpercent(df['text'][i])\n",
      "C:\\Users\\anik3\\AppData\\Local\\Temp\\ipykernel_6640\\4124540592.py:8: SettingWithCopyWarning: \n",
      "A value is trying to be set on a copy of a slice from a DataFrame\n",
      "\n",
      "See the caveats in the documentation: https://pandas.pydata.org/pandas-docs/stable/user_guide/indexing.html#returning-a-view-versus-a-copy\n",
      "  df['text'][i]=removeHashTags(df['text'][i])\n"
     ]
    },
    {
     "data": {
      "application/vnd.jupyter.widget-view+json": {
       "model_id": "40366fa2fc8a453aa341d8d744561e51",
       "version_major": 2,
       "version_minor": 0
      },
      "text/plain": [
       "  0%|          | 0/18 [00:00<?, ?it/s]"
      ]
     },
     "metadata": {},
     "output_type": "display_data"
    },
    {
     "name": "stderr",
     "output_type": "stream",
     "text": [
      "c:\\Users\\anik3\\anaconda3\\lib\\site-packages\\transformers\\generation\\utils.py:1273: UserWarning: Neither `max_length` nor `max_new_tokens` has been set, `max_length` will default to 64 (`generation_config.max_length`). Controlling `max_length` via the config is deprecated and `max_length` will be removed from the config in v5 of Transformers -- we recommend using `max_new_tokens` to control the maximum length of the generation.\n",
      "  warnings.warn(\n"
     ]
    }
   ],
   "source": [
    "df=pd.read_csv(\"#IndoChinaStandoff.csv\")\n",
    "print(df.text)\n",
    "preprocess(df)\n",
    "newdf=buildsetoften(df)\n",
    "for i in tqdm(range (len(newdf)),total=len(newdf)):\n",
    "    t=\"\"\n",
    "    input.append(newdf[i])\n",
    "    t=generate_summary(newdf[i])\n",
    "    output.append(t)"
   ]
  },
  {
   "attachments": {},
   "cell_type": "markdown",
   "id": "39b732ea",
   "metadata": {},
   "source": [
    "### heartattack"
   ]
  },
  {
   "cell_type": "code",
   "execution_count": 117,
   "id": "0d5cb46c",
   "metadata": {},
   "outputs": [
    {
     "name": "stdout",
     "output_type": "stream",
     "text": [
      "0       “Erythritol” sweetener linked to higher rates ...\n",
      "1       ॐ\\nCorrect side effects numbers reported?\\n\\n#...\n",
      "2       https://t.co/fNRDT0Qcb9\\n#heartattack #SuddenD...\n",
      "3       I wonder how people with beautiful heart can g...\n",
      "4       Sushmita Sen: पूर्व मिस यूनिवर्स को आया हार्ट ...\n",
      "                              ...                        \n",
      "1495    Short Documentary on peshware hospitality\\n@Pa...\n",
      "1496    Hridaya Suddha For Heart Problems\\nhttps://t.c...\n",
      "1497    ఆంధ్రప్రదేశ్ రాష్ట్రంలోని ఆదోనిలో మరో విషాద ఘట...\n",
      "1498    ક્રિકેટ રમતાં રમતાં મોતનો વધુ એક બનાવ : ​​​​​​...\n",
      "1499    #AskHinaParvezButt \\n#heartattack \\n#president...\n",
      "Name: text, Length: 1500, dtype: object\n"
     ]
    },
    {
     "name": "stderr",
     "output_type": "stream",
     "text": [
      "C:\\Users\\anik3\\AppData\\Local\\Temp\\ipykernel_6640\\4124540592.py:3: SettingWithCopyWarning: \n",
      "A value is trying to be set on a copy of a slice from a DataFrame\n",
      "\n",
      "See the caveats in the documentation: https://pandas.pydata.org/pandas-docs/stable/user_guide/indexing.html#returning-a-view-versus-a-copy\n",
      "  df['text'][i]=remove_url(df['text'][i])\n",
      "C:\\Users\\anik3\\AppData\\Local\\Temp\\ipykernel_6640\\4124540592.py:4: SettingWithCopyWarning: \n",
      "A value is trying to be set on a copy of a slice from a DataFrame\n",
      "\n",
      "See the caveats in the documentation: https://pandas.pydata.org/pandas-docs/stable/user_guide/indexing.html#returning-a-view-versus-a-copy\n",
      "  df['text'][i]=emoji.demojize(df['text'][i])\n",
      "C:\\Users\\anik3\\AppData\\Local\\Temp\\ipykernel_6640\\4124540592.py:5: SettingWithCopyWarning: \n",
      "A value is trying to be set on a copy of a slice from a DataFrame\n",
      "\n",
      "See the caveats in the documentation: https://pandas.pydata.org/pandas-docs/stable/user_guide/indexing.html#returning-a-view-versus-a-copy\n",
      "  df['text'][i]=removepunc(df['text'][i])\n",
      "C:\\Users\\anik3\\AppData\\Local\\Temp\\ipykernel_6640\\4124540592.py:6: SettingWithCopyWarning: \n",
      "A value is trying to be set on a copy of a slice from a DataFrame\n",
      "\n",
      "See the caveats in the documentation: https://pandas.pydata.org/pandas-docs/stable/user_guide/indexing.html#returning-a-view-versus-a-copy\n",
      "  df['text'][i]=removeEscapeSequences(df['text'][i])\n",
      "C:\\Users\\anik3\\AppData\\Local\\Temp\\ipykernel_6640\\4124540592.py:7: SettingWithCopyWarning: \n",
      "A value is trying to be set on a copy of a slice from a DataFrame\n",
      "\n",
      "See the caveats in the documentation: https://pandas.pydata.org/pandas-docs/stable/user_guide/indexing.html#returning-a-view-versus-a-copy\n",
      "  df['text'][i]=removeAmpercent(df['text'][i])\n",
      "C:\\Users\\anik3\\AppData\\Local\\Temp\\ipykernel_6640\\4124540592.py:8: SettingWithCopyWarning: \n",
      "A value is trying to be set on a copy of a slice from a DataFrame\n",
      "\n",
      "See the caveats in the documentation: https://pandas.pydata.org/pandas-docs/stable/user_guide/indexing.html#returning-a-view-versus-a-copy\n",
      "  df['text'][i]=removeHashTags(df['text'][i])\n"
     ]
    },
    {
     "name": "stdout",
     "output_type": "stream",
     "text": [
      "Exception\n",
      "Exception\n"
     ]
    },
    {
     "data": {
      "application/vnd.jupyter.widget-view+json": {
       "model_id": "95f21a0b3bfe4cae87fcb5b37a74ee4b",
       "version_major": 2,
       "version_minor": 0
      },
      "text/plain": [
       "  0%|          | 0/110 [00:00<?, ?it/s]"
      ]
     },
     "metadata": {},
     "output_type": "display_data"
    },
    {
     "name": "stderr",
     "output_type": "stream",
     "text": [
      "c:\\Users\\anik3\\anaconda3\\lib\\site-packages\\transformers\\generation\\utils.py:1273: UserWarning: Neither `max_length` nor `max_new_tokens` has been set, `max_length` will default to 64 (`generation_config.max_length`). Controlling `max_length` via the config is deprecated and `max_length` will be removed from the config in v5 of Transformers -- we recommend using `max_new_tokens` to control the maximum length of the generation.\n",
      "  warnings.warn(\n"
     ]
    }
   ],
   "source": [
    "df=pd.read_csv(\"#heartattack.csv\")\n",
    "print(df.text)\n",
    "preprocess(df)\n",
    "newdf=buildsetoften(df)\n",
    "for i in tqdm(range (len(newdf)),total=len(newdf)):\n",
    "    t=\"\"\n",
    "    input.append(newdf[i])\n",
    "    t=generate_summary(newdf[i])\n",
    "    output.append(t)"
   ]
  },
  {
   "attachments": {},
   "cell_type": "markdown",
   "id": "89684140",
   "metadata": {},
   "source": [
    "### MSDhoni"
   ]
  },
  {
   "cell_type": "code",
   "execution_count": 120,
   "id": "e57fe863",
   "metadata": {},
   "outputs": [],
   "source": [
    "# df=pd.read_csv(\"#msdhoni.csv\")\n",
    "# print(df.text)\n",
    "# preprocess(df)\n",
    "# newdf=buildsetoften(df)\n",
    "# for i in tqdm(range (len(newdf)),total=len(newdf)):\n",
    "#     t=\"\"\n",
    "#     input.append(newdf[i])\n",
    "#     t=generate_summary(newdf[i])\n",
    "#     output.append(t)"
   ]
  },
  {
   "attachments": {},
   "cell_type": "markdown",
   "id": "05f133fc",
   "metadata": {},
   "source": [
    "### Messi"
   ]
  },
  {
   "cell_type": "code",
   "execution_count": 107,
   "id": "2acf3d09",
   "metadata": {},
   "outputs": [
    {
     "name": "stdout",
     "output_type": "stream",
     "text": [
      "0       La prensa internacional se hizo eco de la amen...\n",
      "1       @porquetendencia El narco termino en #Argentin...\n",
      "2       El Estado se retiró de Rosario #ElPeorPresiden...\n",
      "3       El expresidente expresó su apoyo a la familia ...\n",
      "4       #AnibalFernandez te comunicaste con @nayibbuke...\n",
      "                              ...                        \n",
      "1495    Javier Mascherano no seguirá en Argentina sub ...\n",
      "1496    #Acun #Messi #ZülfüLivaneli #AdımFarah #Ronald...\n",
      "1497    Check out my new #messi on OpenSea! https://t....\n",
      "1498    #OmuzOmuza\\n#Messi\\n#Ronaldo\\n#Deprem\\n#Yardım...\n",
      "1499    Dayım gelecegi görmüs öz goatım #Mbappe #Messi...\n",
      "Name: text, Length: 1500, dtype: object\n"
     ]
    },
    {
     "name": "stderr",
     "output_type": "stream",
     "text": [
      "C:\\Users\\anik3\\AppData\\Local\\Temp\\ipykernel_6640\\4124540592.py:3: SettingWithCopyWarning: \n",
      "A value is trying to be set on a copy of a slice from a DataFrame\n",
      "\n",
      "See the caveats in the documentation: https://pandas.pydata.org/pandas-docs/stable/user_guide/indexing.html#returning-a-view-versus-a-copy\n",
      "  df['text'][i]=remove_url(df['text'][i])\n",
      "C:\\Users\\anik3\\AppData\\Local\\Temp\\ipykernel_6640\\4124540592.py:4: SettingWithCopyWarning: \n",
      "A value is trying to be set on a copy of a slice from a DataFrame\n",
      "\n",
      "See the caveats in the documentation: https://pandas.pydata.org/pandas-docs/stable/user_guide/indexing.html#returning-a-view-versus-a-copy\n",
      "  df['text'][i]=emoji.demojize(df['text'][i])\n",
      "C:\\Users\\anik3\\AppData\\Local\\Temp\\ipykernel_6640\\4124540592.py:5: SettingWithCopyWarning: \n",
      "A value is trying to be set on a copy of a slice from a DataFrame\n",
      "\n",
      "See the caveats in the documentation: https://pandas.pydata.org/pandas-docs/stable/user_guide/indexing.html#returning-a-view-versus-a-copy\n",
      "  df['text'][i]=removepunc(df['text'][i])\n",
      "C:\\Users\\anik3\\AppData\\Local\\Temp\\ipykernel_6640\\4124540592.py:6: SettingWithCopyWarning: \n",
      "A value is trying to be set on a copy of a slice from a DataFrame\n",
      "\n",
      "See the caveats in the documentation: https://pandas.pydata.org/pandas-docs/stable/user_guide/indexing.html#returning-a-view-versus-a-copy\n",
      "  df['text'][i]=removeEscapeSequences(df['text'][i])\n",
      "C:\\Users\\anik3\\AppData\\Local\\Temp\\ipykernel_6640\\4124540592.py:7: SettingWithCopyWarning: \n",
      "A value is trying to be set on a copy of a slice from a DataFrame\n",
      "\n",
      "See the caveats in the documentation: https://pandas.pydata.org/pandas-docs/stable/user_guide/indexing.html#returning-a-view-versus-a-copy\n",
      "  df['text'][i]=removeAmpercent(df['text'][i])\n",
      "C:\\Users\\anik3\\AppData\\Local\\Temp\\ipykernel_6640\\4124540592.py:8: SettingWithCopyWarning: \n",
      "A value is trying to be set on a copy of a slice from a DataFrame\n",
      "\n",
      "See the caveats in the documentation: https://pandas.pydata.org/pandas-docs/stable/user_guide/indexing.html#returning-a-view-versus-a-copy\n",
      "  df['text'][i]=removeHashTags(df['text'][i])\n"
     ]
    },
    {
     "data": {
      "application/vnd.jupyter.widget-view+json": {
       "model_id": "3d65ed01b27d41cc99bdd433e16b4420",
       "version_major": 2,
       "version_minor": 0
      },
      "text/plain": [
       "  0%|          | 0/49 [00:00<?, ?it/s]"
      ]
     },
     "metadata": {},
     "output_type": "display_data"
    },
    {
     "name": "stderr",
     "output_type": "stream",
     "text": [
      "c:\\Users\\anik3\\anaconda3\\lib\\site-packages\\transformers\\generation\\utils.py:1273: UserWarning: Neither `max_length` nor `max_new_tokens` has been set, `max_length` will default to 64 (`generation_config.max_length`). Controlling `max_length` via the config is deprecated and `max_length` will be removed from the config in v5 of Transformers -- we recommend using `max_new_tokens` to control the maximum length of the generation.\n",
      "  warnings.warn(\n"
     ]
    }
   ],
   "source": [
    "df=pd.read_csv(\"#messi.csv\")\n",
    "print(df.text)\n",
    "preprocess(df)\n",
    "newdf=buildsetoften(df)\n",
    "for i in tqdm(range (len(newdf)),total=len(newdf)):\n",
    "    t=\"\"\n",
    "    input.append(newdf[i])\n",
    "    t=generate_summary(newdf[i])\n",
    "    output.append(t)"
   ]
  },
  {
   "attachments": {},
   "cell_type": "markdown",
   "id": "5800e037",
   "metadata": {},
   "source": [
    "### CR7"
   ]
  },
  {
   "cell_type": "code",
   "execution_count": 108,
   "id": "7061a686",
   "metadata": {},
   "outputs": [
    {
     "name": "stdout",
     "output_type": "stream",
     "text": [
      "0       @Naija_PR Whenever i see Madrid winning, no ma...\n",
      "1       لا يمكن للاعب ان يحقق ٥ كرات ذهبية في ظل محارب...\n",
      "2       Dont miss sports at JETEOP TV OLWALEERO... ENG...\n",
      "3       @Cristiano -&gt; @Benzema -&gt; @vinijr  the e...\n",
      "4       Seni de unutmadık #CR7 \\nBi tweet bile atmadın...\n",
      "                              ...                        \n",
      "1495    6مباريات \\n8 اهداف \\n2 اسيست \\nبداية عظيمه للأ...\n",
      "1496    Le but du TRIPLÉ de CR7 avec Al Nassr ! 🐐🇸🇦\\n\\...\n",
      "1497    💯\"Bring the Best Soccer Trainers into Your Hom...\n",
      "1498    هاتررررريييييييكككك #CR7 🫶🏼🫶🏼🫶🏼💙💛💪 https://t.c...\n",
      "1499    Hattrick Cristiano Ronaldo 🥰\\n#Ronaldo \\n#cris...\n",
      "Name: text, Length: 1500, dtype: object\n"
     ]
    },
    {
     "name": "stderr",
     "output_type": "stream",
     "text": [
      "C:\\Users\\anik3\\AppData\\Local\\Temp\\ipykernel_6640\\4124540592.py:3: SettingWithCopyWarning: \n",
      "A value is trying to be set on a copy of a slice from a DataFrame\n",
      "\n",
      "See the caveats in the documentation: https://pandas.pydata.org/pandas-docs/stable/user_guide/indexing.html#returning-a-view-versus-a-copy\n",
      "  df['text'][i]=remove_url(df['text'][i])\n",
      "C:\\Users\\anik3\\AppData\\Local\\Temp\\ipykernel_6640\\4124540592.py:4: SettingWithCopyWarning: \n",
      "A value is trying to be set on a copy of a slice from a DataFrame\n",
      "\n",
      "See the caveats in the documentation: https://pandas.pydata.org/pandas-docs/stable/user_guide/indexing.html#returning-a-view-versus-a-copy\n",
      "  df['text'][i]=emoji.demojize(df['text'][i])\n",
      "C:\\Users\\anik3\\AppData\\Local\\Temp\\ipykernel_6640\\4124540592.py:5: SettingWithCopyWarning: \n",
      "A value is trying to be set on a copy of a slice from a DataFrame\n",
      "\n",
      "See the caveats in the documentation: https://pandas.pydata.org/pandas-docs/stable/user_guide/indexing.html#returning-a-view-versus-a-copy\n",
      "  df['text'][i]=removepunc(df['text'][i])\n",
      "C:\\Users\\anik3\\AppData\\Local\\Temp\\ipykernel_6640\\4124540592.py:6: SettingWithCopyWarning: \n",
      "A value is trying to be set on a copy of a slice from a DataFrame\n",
      "\n",
      "See the caveats in the documentation: https://pandas.pydata.org/pandas-docs/stable/user_guide/indexing.html#returning-a-view-versus-a-copy\n",
      "  df['text'][i]=removeEscapeSequences(df['text'][i])\n",
      "C:\\Users\\anik3\\AppData\\Local\\Temp\\ipykernel_6640\\4124540592.py:7: SettingWithCopyWarning: \n",
      "A value is trying to be set on a copy of a slice from a DataFrame\n",
      "\n",
      "See the caveats in the documentation: https://pandas.pydata.org/pandas-docs/stable/user_guide/indexing.html#returning-a-view-versus-a-copy\n",
      "  df['text'][i]=removeAmpercent(df['text'][i])\n",
      "C:\\Users\\anik3\\AppData\\Local\\Temp\\ipykernel_6640\\4124540592.py:8: SettingWithCopyWarning: \n",
      "A value is trying to be set on a copy of a slice from a DataFrame\n",
      "\n",
      "See the caveats in the documentation: https://pandas.pydata.org/pandas-docs/stable/user_guide/indexing.html#returning-a-view-versus-a-copy\n",
      "  df['text'][i]=removeHashTags(df['text'][i])\n"
     ]
    },
    {
     "data": {
      "application/vnd.jupyter.widget-view+json": {
       "model_id": "955ac41bcdf04b35a67b2a5c5f9b25c6",
       "version_major": 2,
       "version_minor": 0
      },
      "text/plain": [
       "  0%|          | 0/79 [00:00<?, ?it/s]"
      ]
     },
     "metadata": {},
     "output_type": "display_data"
    },
    {
     "name": "stderr",
     "output_type": "stream",
     "text": [
      "c:\\Users\\anik3\\anaconda3\\lib\\site-packages\\transformers\\generation\\utils.py:1273: UserWarning: Neither `max_length` nor `max_new_tokens` has been set, `max_length` will default to 64 (`generation_config.max_length`). Controlling `max_length` via the config is deprecated and `max_length` will be removed from the config in v5 of Transformers -- we recommend using `max_new_tokens` to control the maximum length of the generation.\n",
      "  warnings.warn(\n"
     ]
    }
   ],
   "source": [
    "df=pd.read_csv(\"#CR7.csv\")\n",
    "print(df.text)\n",
    "preprocess(df)\n",
    "newdf=buildsetoften(df)\n",
    "for i in tqdm(range (len(newdf)),total=len(newdf)):\n",
    "    t=\"\"\n",
    "    input.append(newdf[i])\n",
    "    t=generate_summary(newdf[i])\n",
    "    output.append(t)"
   ]
  },
  {
   "attachments": {},
   "cell_type": "markdown",
   "id": "f56f8354",
   "metadata": {},
   "source": [
    "### WPL2023"
   ]
  },
  {
   "cell_type": "code",
   "execution_count": 116,
   "id": "19f2c229",
   "metadata": {},
   "outputs": [
    {
     "name": "stdout",
     "output_type": "stream",
     "text": [
      "0       WPL 2023: డబ్ల్యూపీఎల్‌తో అయినా సెమీస్‌ ఓటమి బ...\n",
      "1       Beth Mooney is all set for #WPL 👏 👏 🏏 \\n\\n#wpl...\n",
      "2       #JemimahRodrigues reckons that the #DelhiCapit...\n",
      "3       शुरुआती स्टेज  पर जेमिमा का नाम सबसे आगे थे, ल...\n",
      "4            4th March !! 💥\\n    GG vs MI \\n#WPL #WPL2023\n",
      "                              ...                        \n",
      "1995    #MumbaiIndians #OneFamily  #WPL2023 \\n@ImHarma...\n",
      "1996    Jemimah Rodriguez is such a vibe , long live g...\n",
      "1997    Women's premiere league is starting from this ...\n",
      "1998    Who will win #WPL2023 ? Please comment for Mumbai\n",
      "1999    Jintimani Kalita - First Player from Assam to ...\n",
      "Name: text, Length: 2000, dtype: object\n"
     ]
    },
    {
     "name": "stderr",
     "output_type": "stream",
     "text": [
      "C:\\Users\\anik3\\AppData\\Local\\Temp\\ipykernel_6640\\4124540592.py:3: SettingWithCopyWarning: \n",
      "A value is trying to be set on a copy of a slice from a DataFrame\n",
      "\n",
      "See the caveats in the documentation: https://pandas.pydata.org/pandas-docs/stable/user_guide/indexing.html#returning-a-view-versus-a-copy\n",
      "  df['text'][i]=remove_url(df['text'][i])\n",
      "C:\\Users\\anik3\\AppData\\Local\\Temp\\ipykernel_6640\\4124540592.py:4: SettingWithCopyWarning: \n",
      "A value is trying to be set on a copy of a slice from a DataFrame\n",
      "\n",
      "See the caveats in the documentation: https://pandas.pydata.org/pandas-docs/stable/user_guide/indexing.html#returning-a-view-versus-a-copy\n",
      "  df['text'][i]=emoji.demojize(df['text'][i])\n",
      "C:\\Users\\anik3\\AppData\\Local\\Temp\\ipykernel_6640\\4124540592.py:5: SettingWithCopyWarning: \n",
      "A value is trying to be set on a copy of a slice from a DataFrame\n",
      "\n",
      "See the caveats in the documentation: https://pandas.pydata.org/pandas-docs/stable/user_guide/indexing.html#returning-a-view-versus-a-copy\n",
      "  df['text'][i]=removepunc(df['text'][i])\n",
      "C:\\Users\\anik3\\AppData\\Local\\Temp\\ipykernel_6640\\4124540592.py:6: SettingWithCopyWarning: \n",
      "A value is trying to be set on a copy of a slice from a DataFrame\n",
      "\n",
      "See the caveats in the documentation: https://pandas.pydata.org/pandas-docs/stable/user_guide/indexing.html#returning-a-view-versus-a-copy\n",
      "  df['text'][i]=removeEscapeSequences(df['text'][i])\n",
      "C:\\Users\\anik3\\AppData\\Local\\Temp\\ipykernel_6640\\4124540592.py:7: SettingWithCopyWarning: \n",
      "A value is trying to be set on a copy of a slice from a DataFrame\n",
      "\n",
      "See the caveats in the documentation: https://pandas.pydata.org/pandas-docs/stable/user_guide/indexing.html#returning-a-view-versus-a-copy\n",
      "  df['text'][i]=removeAmpercent(df['text'][i])\n",
      "C:\\Users\\anik3\\AppData\\Local\\Temp\\ipykernel_6640\\4124540592.py:8: SettingWithCopyWarning: \n",
      "A value is trying to be set on a copy of a slice from a DataFrame\n",
      "\n",
      "See the caveats in the documentation: https://pandas.pydata.org/pandas-docs/stable/user_guide/indexing.html#returning-a-view-versus-a-copy\n",
      "  df['text'][i]=removeHashTags(df['text'][i])\n"
     ]
    },
    {
     "name": "stdout",
     "output_type": "stream",
     "text": [
      "Exception\n"
     ]
    },
    {
     "data": {
      "application/vnd.jupyter.widget-view+json": {
       "model_id": "f372a05cbca74c41a03a250abaeeabe2",
       "version_major": 2,
       "version_minor": 0
      },
      "text/plain": [
       "  0%|          | 0/171 [00:00<?, ?it/s]"
      ]
     },
     "metadata": {},
     "output_type": "display_data"
    },
    {
     "name": "stderr",
     "output_type": "stream",
     "text": [
      "c:\\Users\\anik3\\anaconda3\\lib\\site-packages\\transformers\\generation\\utils.py:1273: UserWarning: Neither `max_length` nor `max_new_tokens` has been set, `max_length` will default to 64 (`generation_config.max_length`). Controlling `max_length` via the config is deprecated and `max_length` will be removed from the config in v5 of Transformers -- we recommend using `max_new_tokens` to control the maximum length of the generation.\n",
      "  warnings.warn(\n"
     ]
    }
   ],
   "source": [
    "df=pd.read_csv(\"#WPL2023.csv\")\n",
    "print(df.text)\n",
    "preprocess(df)\n",
    "newdf=buildsetoften(df)\n",
    "for i in tqdm(range (len(newdf)),total=len(newdf)):\n",
    "    t=\"\"\n",
    "    input.append(newdf[i])\n",
    "    t=generate_summary(newdf[i])\n",
    "    output.append(t)"
   ]
  },
  {
   "attachments": {},
   "cell_type": "markdown",
   "id": "73211af1",
   "metadata": {},
   "source": [
    "### Making a dictionary where key x contains all inputs and y contains summary"
   ]
  },
  {
   "cell_type": "code",
   "execution_count": 118,
   "id": "e6277551",
   "metadata": {},
   "outputs": [
    {
     "data": {
      "text/html": [
       "<div>\n",
       "<style scoped>\n",
       "    .dataframe tbody tr th:only-of-type {\n",
       "        vertical-align: middle;\n",
       "    }\n",
       "\n",
       "    .dataframe tbody tr th {\n",
       "        vertical-align: top;\n",
       "    }\n",
       "\n",
       "    .dataframe thead th {\n",
       "        text-align: right;\n",
       "    }\n",
       "</style>\n",
       "<table border=\"1\" class=\"dataframe\">\n",
       "  <thead>\n",
       "    <tr style=\"text-align: right;\">\n",
       "      <th></th>\n",
       "      <th>x</th>\n",
       "      <th>y</th>\n",
       "    </tr>\n",
       "  </thead>\n",
       "  <tbody>\n",
       "    <tr>\n",
       "      <th>0</th>\n",
       "      <td>Ahead of AyodhyaVerdict, appeal to everyone to...</td>\n",
       "      <td>&lt;pad&gt;Politicians and celebrities have been sha...</td>\n",
       "    </tr>\n",
       "    <tr>\n",
       "      <th>1</th>\n",
       "      <td>WATCH Maulana Asghar Ali Salafi, President, Ma...</td>\n",
       "      <td>&lt;pad&gt;Maulana Asghar Ali Salafi, President of M...</td>\n",
       "    </tr>\n",
       "    <tr>\n",
       "      <th>2</th>\n",
       "      <td>A civilizational wound is now healed. 490 year...</td>\n",
       "      <td>&lt;pad&gt;\"My essay on the AYODHYAVERDICT The Ayodh...</td>\n",
       "    </tr>\n",
       "    <tr>\n",
       "      <th>3</th>\n",
       "      <td>As a step to impress Sonia Gandhiandamp Congre...</td>\n",
       "      <td>&lt;pad&gt;As the Ayodhya verdict continues to domin...</td>\n",
       "    </tr>\n",
       "    <tr>\n",
       "      <th>4</th>\n",
       "      <td>I would suggest Muslims of present generation ...</td>\n",
       "      <td>&lt;pad&gt;I would suggest Muslims of present genera...</td>\n",
       "    </tr>\n",
       "    <tr>\n",
       "      <th>...</th>\n",
       "      <td>...</td>\n",
       "      <td>...</td>\n",
       "    </tr>\n",
       "    <tr>\n",
       "      <th>1154</th>\n",
       "      <td>On Camera, 19YearOld Dancing At Wedding Collap...</td>\n",
       "      <td>&lt;pad&gt;A 19-year-old man collapsed and died whil...</td>\n",
       "    </tr>\n",
       "    <tr>\n",
       "      <th>1155</th>\n",
       "      <td>I had doubt's on Covid vaccine from Day 1 so d...</td>\n",
       "      <td>&lt;pad&gt;A 19-year-old man who collapsed and died ...</td>\n",
       "    </tr>\n",
       "    <tr>\n",
       "      <th>1156</th>\n",
       "      <td>anxiety frm pain, then hv docs,pharmacies, med...</td>\n",
       "      <td>&lt;pad&gt;I feel heartattack is in my near future, ...</td>\n",
       "    </tr>\n",
       "    <tr>\n",
       "      <th>1157</th>\n",
       "      <td>heartattackAI has made predicting heart diseas...</td>\n",
       "      <td>&lt;pad&gt;Dozens of people have been taken to hospi...</td>\n",
       "    </tr>\n",
       "    <tr>\n",
       "      <th>1158</th>\n",
       "      <td></td>\n",
       "      <td>&lt;pad&gt;A selection of photos from across the Afr...</td>\n",
       "    </tr>\n",
       "  </tbody>\n",
       "</table>\n",
       "<p>1159 rows × 2 columns</p>\n",
       "</div>"
      ],
      "text/plain": [
       "                                                      x  \\\n",
       "0     Ahead of AyodhyaVerdict, appeal to everyone to...   \n",
       "1     WATCH Maulana Asghar Ali Salafi, President, Ma...   \n",
       "2     A civilizational wound is now healed. 490 year...   \n",
       "3     As a step to impress Sonia Gandhiandamp Congre...   \n",
       "4     I would suggest Muslims of present generation ...   \n",
       "...                                                 ...   \n",
       "1154  On Camera, 19YearOld Dancing At Wedding Collap...   \n",
       "1155  I had doubt's on Covid vaccine from Day 1 so d...   \n",
       "1156  anxiety frm pain, then hv docs,pharmacies, med...   \n",
       "1157  heartattackAI has made predicting heart diseas...   \n",
       "1158                                                      \n",
       "\n",
       "                                                      y  \n",
       "0     <pad>Politicians and celebrities have been sha...  \n",
       "1     <pad>Maulana Asghar Ali Salafi, President of M...  \n",
       "2     <pad>\"My essay on the AYODHYAVERDICT The Ayodh...  \n",
       "3     <pad>As the Ayodhya verdict continues to domin...  \n",
       "4     <pad>I would suggest Muslims of present genera...  \n",
       "...                                                 ...  \n",
       "1154  <pad>A 19-year-old man collapsed and died whil...  \n",
       "1155  <pad>A 19-year-old man who collapsed and died ...  \n",
       "1156  <pad>I feel heartattack is in my near future, ...  \n",
       "1157  <pad>Dozens of people have been taken to hospi...  \n",
       "1158  <pad>A selection of photos from across the Afr...  \n",
       "\n",
       "[1159 rows x 2 columns]"
      ]
     },
     "execution_count": 118,
     "metadata": {},
     "output_type": "execute_result"
    }
   ],
   "source": [
    "dict={'x':input,'y':output}\n",
    "resultdf=pd.DataFrame(dict)\n",
    "resultdf"
   ]
  },
  {
   "attachments": {},
   "cell_type": "markdown",
   "id": "0cd73361",
   "metadata": {},
   "source": [
    "### Saving the datafraeme to a csv file"
   ]
  },
  {
   "cell_type": "code",
   "execution_count": 119,
   "id": "b6c82a0a",
   "metadata": {},
   "outputs": [],
   "source": [
    "resultdf.to_csv(\"NLPData.csv\")"
   ]
  },
  {
   "cell_type": "code",
   "execution_count": null,
   "id": "2359b6e2",
   "metadata": {},
   "outputs": [],
   "source": []
  }
 ],
 "metadata": {
  "kernelspec": {
   "display_name": "base",
   "language": "python",
   "name": "python3"
  },
  "language_info": {
   "codemirror_mode": {
    "name": "ipython",
    "version": 3
   },
   "file_extension": ".py",
   "mimetype": "text/x-python",
   "name": "python",
   "nbconvert_exporter": "python",
   "pygments_lexer": "ipython3",
   "version": "3.9.13"
  },
  "vscode": {
   "interpreter": {
    "hash": "aa8a3d9561ff4780774ef2320ce3f81738fa19e3f5587d749bc3dc632b817911"
   }
  }
 },
 "nbformat": 4,
 "nbformat_minor": 5
}
