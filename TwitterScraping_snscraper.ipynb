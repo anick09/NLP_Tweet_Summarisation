{
 "cells": [
  {
   "cell_type": "markdown",
   "id": "8b80b043",
   "metadata": {},
   "source": [
    "### Scraping data from Twitter"
   ]
  },
  {
   "attachments": {},
   "cell_type": "markdown",
   "id": "5ef3844b",
   "metadata": {},
   "source": [
    "# Twitter Scraping using snscraper"
   ]
  },
  {
   "cell_type": "code",
   "execution_count": 2,
   "id": "2a6b5295",
   "metadata": {},
   "outputs": [],
   "source": [
    "import pandas as pd\n",
    "from tqdm.notebook import tqdm\n",
    "import snscrape.modules.twitter as sntwitter"
   ]
  },
  {
   "cell_type": "code",
   "execution_count": 15,
   "id": "bfe999b8",
   "metadata": {},
   "outputs": [
    {
     "data": {
      "application/vnd.jupyter.widget-view+json": {
       "model_id": "f3e3ef294b78461cbb18eb7314cb64e2",
       "version_major": 2,
       "version_minor": 0
      },
      "text/plain": [
       "  0%|          | 0/2000 [00:00<?, ?it/s]"
      ]
     },
     "metadata": {},
     "output_type": "display_data"
    },
    {
     "name": "stderr",
     "output_type": "stream",
     "text": [
      "C:\\Users\\anik3\\AppData\\Local\\Temp\\ipykernel_22720\\520126653.py:6: FutureWarning: content is deprecated, use rawContent instead\n",
      "  data=[tweet.content]\n"
     ]
    }
   ],
   "source": [
    "tweets=[]\n",
    "scraper = sntwitter.TwitterSearchScraper(\"#WPL2023\")\n",
    "i=0\n",
    "for tweet in tqdm(scraper.get_items(),total=2000):\n",
    "    i=i+1\n",
    "    data=[tweet.content]\n",
    "    tweets.append(data)\n",
    "    if(i==2000):\n",
    "        break\n",
    "\n",
    "df=pd.DataFrame(tweets,columns=['text'])\n",
    "df.to_csv(\"#WPL2023.csv\")"
   ]
  },
  {
   "cell_type": "code",
   "execution_count": null,
   "id": "273bfb04",
   "metadata": {},
   "outputs": [],
   "source": []
  }
 ],
 "metadata": {
  "kernelspec": {
   "display_name": "base",
   "language": "python",
   "name": "python3"
  },
  "language_info": {
   "codemirror_mode": {
    "name": "ipython",
    "version": 3
   },
   "file_extension": ".py",
   "mimetype": "text/x-python",
   "name": "python",
   "nbconvert_exporter": "python",
   "pygments_lexer": "ipython3",
   "version": "3.9.13"
  },
  "vscode": {
   "interpreter": {
    "hash": "aa8a3d9561ff4780774ef2320ce3f81738fa19e3f5587d749bc3dc632b817911"
   }
  }
 },
 "nbformat": 4,
 "nbformat_minor": 5
}
